{
 "cells": [
  {
   "cell_type": "code",
   "execution_count": 1,
   "metadata": {},
   "outputs": [],
   "source": [
    "# general purpose libraries\n",
    "import numpy as np\n",
    "import pandas as pd\n",
    "import os\n",
    "from tqdm import tqdm\n",
    "\n",
    "# torch libraries\n",
    "import torch\n",
    "import torch.nn as nn\n",
    "import torchmetrics\n",
    "from torcheval.metrics.functional import binary_auprc\n",
    "\n",
    "# model libraries\n",
    "from neural_net_pre_process import RNAData"
   ]
  },
  {
   "cell_type": "code",
   "execution_count": 2,
   "metadata": {},
   "outputs": [
    {
     "name": "stdout",
     "output_type": "stream",
     "text": [
      "Currently pre processing ...\n",
      "Pre processing done!\n",
      "Currently labelling ...\n"
     ]
    },
    {
     "ename": "KeyboardInterrupt",
     "evalue": "",
     "output_type": "error",
     "traceback": [
      "\u001b[1;31m---------------------------------------------------------------------------\u001b[0m",
      "\u001b[1;31mKeyboardInterrupt\u001b[0m                         Traceback (most recent call last)",
      "\u001b[1;32mc:\\Users\\XuanJun\\Desktop\\Repo\\dsa4266_ribosomes\\intermediate_ranking_logistic.ipynb Cell 2\u001b[0m line \u001b[0;36m<cell line: 9>\u001b[1;34m()\u001b[0m\n\u001b[0;32m      <a href='vscode-notebook-cell:/c%3A/Users/XuanJun/Desktop/Repo/dsa4266_ribosomes/intermediate_ranking_logistic.ipynb#W1sZmlsZQ%3D%3D?line=5'>6</a>\u001b[0m READ_SIZE \u001b[39m=\u001b[39m \u001b[39m20\u001b[39m\n\u001b[0;32m      <a href='vscode-notebook-cell:/c%3A/Users/XuanJun/Desktop/Repo/dsa4266_ribosomes/intermediate_ranking_logistic.ipynb#W1sZmlsZQ%3D%3D?line=6'>7</a>\u001b[0m TRAIN_SIZE \u001b[39m=\u001b[39m \u001b[39m0.8\u001b[39m  \u001b[39m# Specify the training size if you're using train-test split\u001b[39;00m\n\u001b[1;32m----> <a href='vscode-notebook-cell:/c%3A/Users/XuanJun/Desktop/Repo/dsa4266_ribosomes/intermediate_ranking_logistic.ipynb#W1sZmlsZQ%3D%3D?line=8'>9</a>\u001b[0m rna_data \u001b[39m=\u001b[39m RNAData(data_path\u001b[39m=\u001b[39;49mDATA_PATH, label_path\u001b[39m=\u001b[39;49mLABEL_PATH, batch_size\u001b[39m=\u001b[39;49mBATCH_SIZE, read_size\u001b[39m=\u001b[39;49mREAD_SIZE, train\u001b[39m=\u001b[39;49m\u001b[39mTrue\u001b[39;49;00m, train_size\u001b[39m=\u001b[39;49mTRAIN_SIZE)\n",
      "File \u001b[1;32mc:\\Users\\XuanJun\\Desktop\\Repo\\dsa4266_ribosomes\\neural_net_pre_process.py:126\u001b[0m, in \u001b[0;36mRNAData.__init__\u001b[1;34m(self, data_path, label_path, read_size, batch_size, train, train_size)\u001b[0m\n\u001b[0;32m    124\u001b[0m \u001b[39mprint\u001b[39m(\u001b[39m\"\u001b[39m\u001b[39mCurrently labelling ...\u001b[39m\u001b[39m\"\u001b[39m)\n\u001b[0;32m    125\u001b[0m \u001b[39mself\u001b[39m\u001b[39m.\u001b[39mlabel_path \u001b[39m=\u001b[39m label_path\n\u001b[1;32m--> 126\u001b[0m \u001b[39mself\u001b[39;49m\u001b[39m.\u001b[39;49madd_labels()\n\u001b[0;32m    127\u001b[0m \u001b[39mprint\u001b[39m(\u001b[39m'\u001b[39m\u001b[39mLabelling done\u001b[39m\u001b[39m'\u001b[39m)\n\u001b[0;32m    129\u001b[0m \u001b[39mprint\u001b[39m(\u001b[39m\"\u001b[39m\u001b[39mCurrently Splitting ...\u001b[39m\u001b[39m\"\u001b[39m)\n",
      "File \u001b[1;32mc:\\Users\\XuanJun\\Desktop\\Repo\\dsa4266_ribosomes\\neural_net_pre_process.py:173\u001b[0m, in \u001b[0;36mRNAData.add_labels\u001b[1;34m(self)\u001b[0m\n\u001b[0;32m    165\u001b[0m \u001b[39mdef\u001b[39;00m \u001b[39madd_labels\u001b[39m(\u001b[39mself\u001b[39m):\n\u001b[0;32m    166\u001b[0m     \u001b[39m\"\"\"\u001b[39;00m\n\u001b[0;32m    167\u001b[0m \u001b[39m    Process the data that is in `self.label_path`. Adds the label to the site in `self.data_dict` and also provides\u001b[39;00m\n\u001b[0;32m    168\u001b[0m \u001b[39m    the pairings under `self.gene_dict`.\u001b[39;00m\n\u001b[0;32m    169\u001b[0m \n\u001b[0;32m    170\u001b[0m \u001b[39m    This is used in the constructor for initialisation. This will only be called if `self.train=True`\u001b[39;00m\n\u001b[0;32m    171\u001b[0m \u001b[39m    \"\"\"\u001b[39;00m\n\u001b[1;32m--> 173\u001b[0m     data_info \u001b[39m=\u001b[39m pd\u001b[39m.\u001b[39;49mread_csv(\u001b[39mself\u001b[39;49m\u001b[39m.\u001b[39;49mlabel_path)\n\u001b[0;32m    174\u001b[0m     \u001b[39mfor\u001b[39;00m index, row \u001b[39min\u001b[39;00m data_info\u001b[39m.\u001b[39miterrows():\n\u001b[0;32m    175\u001b[0m         transcript_id \u001b[39m=\u001b[39m row[\u001b[39m'\u001b[39m\u001b[39mtranscript_id\u001b[39m\u001b[39m'\u001b[39m]\n",
      "File \u001b[1;32mc:\\Users\\XuanJun\\anaconda3\\envs\\dsa4266\\lib\\site-packages\\pandas\\io\\parsers\\readers.py:948\u001b[0m, in \u001b[0;36mread_csv\u001b[1;34m(filepath_or_buffer, sep, delimiter, header, names, index_col, usecols, dtype, engine, converters, true_values, false_values, skipinitialspace, skiprows, skipfooter, nrows, na_values, keep_default_na, na_filter, verbose, skip_blank_lines, parse_dates, infer_datetime_format, keep_date_col, date_parser, date_format, dayfirst, cache_dates, iterator, chunksize, compression, thousands, decimal, lineterminator, quotechar, quoting, doublequote, escapechar, comment, encoding, encoding_errors, dialect, on_bad_lines, delim_whitespace, low_memory, memory_map, float_precision, storage_options, dtype_backend)\u001b[0m\n\u001b[0;32m    935\u001b[0m kwds_defaults \u001b[39m=\u001b[39m _refine_defaults_read(\n\u001b[0;32m    936\u001b[0m     dialect,\n\u001b[0;32m    937\u001b[0m     delimiter,\n\u001b[1;32m   (...)\u001b[0m\n\u001b[0;32m    944\u001b[0m     dtype_backend\u001b[39m=\u001b[39mdtype_backend,\n\u001b[0;32m    945\u001b[0m )\n\u001b[0;32m    946\u001b[0m kwds\u001b[39m.\u001b[39mupdate(kwds_defaults)\n\u001b[1;32m--> 948\u001b[0m \u001b[39mreturn\u001b[39;00m _read(filepath_or_buffer, kwds)\n",
      "File \u001b[1;32mc:\\Users\\XuanJun\\anaconda3\\envs\\dsa4266\\lib\\site-packages\\pandas\\io\\parsers\\readers.py:611\u001b[0m, in \u001b[0;36m_read\u001b[1;34m(filepath_or_buffer, kwds)\u001b[0m\n\u001b[0;32m    608\u001b[0m _validate_names(kwds\u001b[39m.\u001b[39mget(\u001b[39m\"\u001b[39m\u001b[39mnames\u001b[39m\u001b[39m\"\u001b[39m, \u001b[39mNone\u001b[39;00m))\n\u001b[0;32m    610\u001b[0m \u001b[39m# Create the parser.\u001b[39;00m\n\u001b[1;32m--> 611\u001b[0m parser \u001b[39m=\u001b[39m TextFileReader(filepath_or_buffer, \u001b[39m*\u001b[39m\u001b[39m*\u001b[39mkwds)\n\u001b[0;32m    613\u001b[0m \u001b[39mif\u001b[39;00m chunksize \u001b[39mor\u001b[39;00m iterator:\n\u001b[0;32m    614\u001b[0m     \u001b[39mreturn\u001b[39;00m parser\n",
      "File \u001b[1;32mc:\\Users\\XuanJun\\anaconda3\\envs\\dsa4266\\lib\\site-packages\\pandas\\io\\parsers\\readers.py:1448\u001b[0m, in \u001b[0;36mTextFileReader.__init__\u001b[1;34m(self, f, engine, **kwds)\u001b[0m\n\u001b[0;32m   1445\u001b[0m     \u001b[39mself\u001b[39m\u001b[39m.\u001b[39moptions[\u001b[39m\"\u001b[39m\u001b[39mhas_index_names\u001b[39m\u001b[39m\"\u001b[39m] \u001b[39m=\u001b[39m kwds[\u001b[39m\"\u001b[39m\u001b[39mhas_index_names\u001b[39m\u001b[39m\"\u001b[39m]\n\u001b[0;32m   1447\u001b[0m \u001b[39mself\u001b[39m\u001b[39m.\u001b[39mhandles: IOHandles \u001b[39m|\u001b[39m \u001b[39mNone\u001b[39;00m \u001b[39m=\u001b[39m \u001b[39mNone\u001b[39;00m\n\u001b[1;32m-> 1448\u001b[0m \u001b[39mself\u001b[39m\u001b[39m.\u001b[39m_engine \u001b[39m=\u001b[39m \u001b[39mself\u001b[39;49m\u001b[39m.\u001b[39;49m_make_engine(f, \u001b[39mself\u001b[39;49m\u001b[39m.\u001b[39;49mengine)\n",
      "File \u001b[1;32mc:\\Users\\XuanJun\\anaconda3\\envs\\dsa4266\\lib\\site-packages\\pandas\\io\\parsers\\readers.py:1705\u001b[0m, in \u001b[0;36mTextFileReader._make_engine\u001b[1;34m(self, f, engine)\u001b[0m\n\u001b[0;32m   1703\u001b[0m     \u001b[39mif\u001b[39;00m \u001b[39m\"\u001b[39m\u001b[39mb\u001b[39m\u001b[39m\"\u001b[39m \u001b[39mnot\u001b[39;00m \u001b[39min\u001b[39;00m mode:\n\u001b[0;32m   1704\u001b[0m         mode \u001b[39m+\u001b[39m\u001b[39m=\u001b[39m \u001b[39m\"\u001b[39m\u001b[39mb\u001b[39m\u001b[39m\"\u001b[39m\n\u001b[1;32m-> 1705\u001b[0m \u001b[39mself\u001b[39m\u001b[39m.\u001b[39mhandles \u001b[39m=\u001b[39m get_handle(\n\u001b[0;32m   1706\u001b[0m     f,\n\u001b[0;32m   1707\u001b[0m     mode,\n\u001b[0;32m   1708\u001b[0m     encoding\u001b[39m=\u001b[39;49m\u001b[39mself\u001b[39;49m\u001b[39m.\u001b[39;49moptions\u001b[39m.\u001b[39;49mget(\u001b[39m\"\u001b[39;49m\u001b[39mencoding\u001b[39;49m\u001b[39m\"\u001b[39;49m, \u001b[39mNone\u001b[39;49;00m),\n\u001b[0;32m   1709\u001b[0m     compression\u001b[39m=\u001b[39;49m\u001b[39mself\u001b[39;49m\u001b[39m.\u001b[39;49moptions\u001b[39m.\u001b[39;49mget(\u001b[39m\"\u001b[39;49m\u001b[39mcompression\u001b[39;49m\u001b[39m\"\u001b[39;49m, \u001b[39mNone\u001b[39;49;00m),\n\u001b[0;32m   1710\u001b[0m     memory_map\u001b[39m=\u001b[39;49m\u001b[39mself\u001b[39;49m\u001b[39m.\u001b[39;49moptions\u001b[39m.\u001b[39;49mget(\u001b[39m\"\u001b[39;49m\u001b[39mmemory_map\u001b[39;49m\u001b[39m\"\u001b[39;49m, \u001b[39mFalse\u001b[39;49;00m),\n\u001b[0;32m   1711\u001b[0m     is_text\u001b[39m=\u001b[39;49mis_text,\n\u001b[0;32m   1712\u001b[0m     errors\u001b[39m=\u001b[39;49m\u001b[39mself\u001b[39;49m\u001b[39m.\u001b[39;49moptions\u001b[39m.\u001b[39;49mget(\u001b[39m\"\u001b[39;49m\u001b[39mencoding_errors\u001b[39;49m\u001b[39m\"\u001b[39;49m, \u001b[39m\"\u001b[39;49m\u001b[39mstrict\u001b[39;49m\u001b[39m\"\u001b[39;49m),\n\u001b[0;32m   1713\u001b[0m     storage_options\u001b[39m=\u001b[39;49m\u001b[39mself\u001b[39;49m\u001b[39m.\u001b[39;49moptions\u001b[39m.\u001b[39;49mget(\u001b[39m\"\u001b[39;49m\u001b[39mstorage_options\u001b[39;49m\u001b[39m\"\u001b[39;49m, \u001b[39mNone\u001b[39;49;00m),\n\u001b[0;32m   1714\u001b[0m )\n\u001b[0;32m   1715\u001b[0m \u001b[39massert\u001b[39;00m \u001b[39mself\u001b[39m\u001b[39m.\u001b[39mhandles \u001b[39mis\u001b[39;00m \u001b[39mnot\u001b[39;00m \u001b[39mNone\u001b[39;00m\n\u001b[0;32m   1716\u001b[0m f \u001b[39m=\u001b[39m \u001b[39mself\u001b[39m\u001b[39m.\u001b[39mhandles\u001b[39m.\u001b[39mhandle\n",
      "File \u001b[1;32mc:\\Users\\XuanJun\\anaconda3\\envs\\dsa4266\\lib\\site-packages\\pandas\\io\\common.py:709\u001b[0m, in \u001b[0;36mget_handle\u001b[1;34m(path_or_buf, mode, encoding, compression, memory_map, is_text, errors, storage_options)\u001b[0m\n\u001b[0;32m    706\u001b[0m errors \u001b[39m=\u001b[39m errors \u001b[39mor\u001b[39;00m \u001b[39m\"\u001b[39m\u001b[39mstrict\u001b[39m\u001b[39m\"\u001b[39m\n\u001b[0;32m    708\u001b[0m \u001b[39m# read_csv does not know whether the buffer is opened in binary/text mode\u001b[39;00m\n\u001b[1;32m--> 709\u001b[0m \u001b[39mif\u001b[39;00m _is_binary_mode(path_or_buf, mode) \u001b[39mand\u001b[39;00m \u001b[39m\"\u001b[39m\u001b[39mb\u001b[39m\u001b[39m\"\u001b[39m \u001b[39mnot\u001b[39;00m \u001b[39min\u001b[39;00m mode:\n\u001b[0;32m    710\u001b[0m     mode \u001b[39m+\u001b[39m\u001b[39m=\u001b[39m \u001b[39m\"\u001b[39m\u001b[39mb\u001b[39m\u001b[39m\"\u001b[39m\n\u001b[0;32m    712\u001b[0m \u001b[39m# validate encoding and errors\u001b[39;00m\n",
      "File \u001b[1;32mc:\\Users\\XuanJun\\anaconda3\\envs\\dsa4266\\lib\\site-packages\\pandas\\io\\common.py:1171\u001b[0m, in \u001b[0;36m_is_binary_mode\u001b[1;34m(handle, mode)\u001b[0m\n\u001b[0;32m   1168\u001b[0m \u001b[39mif\u001b[39;00m \u001b[39missubclass\u001b[39m(\u001b[39mtype\u001b[39m(handle), text_classes):\n\u001b[0;32m   1169\u001b[0m     \u001b[39mreturn\u001b[39;00m \u001b[39mFalse\u001b[39;00m\n\u001b[1;32m-> 1171\u001b[0m \u001b[39mreturn\u001b[39;00m \u001b[39misinstance\u001b[39m(handle, _get_binary_io_classes()) \u001b[39mor\u001b[39;00m \u001b[39m\"\u001b[39m\u001b[39mb\u001b[39m\u001b[39m\"\u001b[39m \u001b[39min\u001b[39;00m \u001b[39mgetattr\u001b[39m(\n\u001b[0;32m   1172\u001b[0m     handle, \u001b[39m\"\u001b[39m\u001b[39mmode\u001b[39m\u001b[39m\"\u001b[39m, mode\n\u001b[0;32m   1173\u001b[0m )\n",
      "File \u001b[1;32mc:\\Users\\XuanJun\\anaconda3\\envs\\dsa4266\\lib\\site-packages\\pandas\\io\\common.py:1186\u001b[0m, in \u001b[0;36m_get_binary_io_classes\u001b[1;34m()\u001b[0m\n\u001b[0;32m   1179\u001b[0m binary_classes: \u001b[39mtuple\u001b[39m[\u001b[39mtype\u001b[39m, \u001b[39m.\u001b[39m\u001b[39m.\u001b[39m\u001b[39m.\u001b[39m] \u001b[39m=\u001b[39m (BufferedIOBase, RawIOBase)\n\u001b[0;32m   1181\u001b[0m \u001b[39m# python-zstandard doesn't use any of the builtin base classes; instead we\u001b[39;00m\n\u001b[0;32m   1182\u001b[0m \u001b[39m# have to use the `zstd.ZstdDecompressionReader` class for isinstance checks.\u001b[39;00m\n\u001b[0;32m   1183\u001b[0m \u001b[39m# Unfortunately `zstd.ZstdDecompressionReader` isn't exposed by python-zstandard\u001b[39;00m\n\u001b[0;32m   1184\u001b[0m \u001b[39m# so we have to get it from a `zstd.ZstdDecompressor` instance.\u001b[39;00m\n\u001b[0;32m   1185\u001b[0m \u001b[39m# See also https://github.com/indygreg/python-zstandard/pull/165.\u001b[39;00m\n\u001b[1;32m-> 1186\u001b[0m zstd \u001b[39m=\u001b[39m import_optional_dependency(\u001b[39m\"\u001b[39;49m\u001b[39mzstandard\u001b[39;49m\u001b[39m\"\u001b[39;49m, errors\u001b[39m=\u001b[39;49m\u001b[39m\"\u001b[39;49m\u001b[39mignore\u001b[39;49m\u001b[39m\"\u001b[39;49m)\n\u001b[0;32m   1187\u001b[0m \u001b[39mif\u001b[39;00m zstd \u001b[39mis\u001b[39;00m \u001b[39mnot\u001b[39;00m \u001b[39mNone\u001b[39;00m:\n\u001b[0;32m   1188\u001b[0m     \u001b[39mwith\u001b[39;00m zstd\u001b[39m.\u001b[39mZstdDecompressor()\u001b[39m.\u001b[39mstream_reader(\u001b[39mb\u001b[39m\u001b[39m\"\u001b[39m\u001b[39m\"\u001b[39m) \u001b[39mas\u001b[39;00m reader:\n",
      "File \u001b[1;32mc:\\Users\\XuanJun\\anaconda3\\envs\\dsa4266\\lib\\site-packages\\pandas\\compat\\_optional.py:132\u001b[0m, in \u001b[0;36mimport_optional_dependency\u001b[1;34m(name, extra, errors, min_version)\u001b[0m\n\u001b[0;32m    127\u001b[0m msg \u001b[39m=\u001b[39m (\n\u001b[0;32m    128\u001b[0m     \u001b[39mf\u001b[39m\u001b[39m\"\u001b[39m\u001b[39mMissing optional dependency \u001b[39m\u001b[39m'\u001b[39m\u001b[39m{\u001b[39;00minstall_name\u001b[39m}\u001b[39;00m\u001b[39m'\u001b[39m\u001b[39m. \u001b[39m\u001b[39m{\u001b[39;00mextra\u001b[39m}\u001b[39;00m\u001b[39m \u001b[39m\u001b[39m\"\u001b[39m\n\u001b[0;32m    129\u001b[0m     \u001b[39mf\u001b[39m\u001b[39m\"\u001b[39m\u001b[39mUse pip or conda to install \u001b[39m\u001b[39m{\u001b[39;00minstall_name\u001b[39m}\u001b[39;00m\u001b[39m.\u001b[39m\u001b[39m\"\u001b[39m\n\u001b[0;32m    130\u001b[0m )\n\u001b[0;32m    131\u001b[0m \u001b[39mtry\u001b[39;00m:\n\u001b[1;32m--> 132\u001b[0m     module \u001b[39m=\u001b[39m importlib\u001b[39m.\u001b[39;49mimport_module(name)\n\u001b[0;32m    133\u001b[0m \u001b[39mexcept\u001b[39;00m \u001b[39mImportError\u001b[39;00m:\n\u001b[0;32m    134\u001b[0m     \u001b[39mif\u001b[39;00m errors \u001b[39m==\u001b[39m \u001b[39m\"\u001b[39m\u001b[39mraise\u001b[39m\u001b[39m\"\u001b[39m:\n",
      "File \u001b[1;32mc:\\Users\\XuanJun\\anaconda3\\envs\\dsa4266\\lib\\importlib\\__init__.py:126\u001b[0m, in \u001b[0;36mimport_module\u001b[1;34m(name, package)\u001b[0m\n\u001b[0;32m    124\u001b[0m             \u001b[39mbreak\u001b[39;00m\n\u001b[0;32m    125\u001b[0m         level \u001b[39m+\u001b[39m\u001b[39m=\u001b[39m \u001b[39m1\u001b[39m\n\u001b[1;32m--> 126\u001b[0m \u001b[39mreturn\u001b[39;00m _bootstrap\u001b[39m.\u001b[39;49m_gcd_import(name[level:], package, level)\n",
      "File \u001b[1;32m<frozen importlib._bootstrap>:1050\u001b[0m, in \u001b[0;36m_gcd_import\u001b[1;34m(name, package, level)\u001b[0m\n",
      "File \u001b[1;32m<frozen importlib._bootstrap>:1027\u001b[0m, in \u001b[0;36m_find_and_load\u001b[1;34m(name, import_)\u001b[0m\n",
      "File \u001b[1;32m<frozen importlib._bootstrap>:1002\u001b[0m, in \u001b[0;36m_find_and_load_unlocked\u001b[1;34m(name, import_)\u001b[0m\n",
      "File \u001b[1;32m<frozen importlib._bootstrap>:945\u001b[0m, in \u001b[0;36m_find_spec\u001b[1;34m(name, path, target)\u001b[0m\n",
      "File \u001b[1;32m<frozen importlib._bootstrap_external>:1439\u001b[0m, in \u001b[0;36mfind_spec\u001b[1;34m(cls, fullname, path, target)\u001b[0m\n",
      "File \u001b[1;32m<frozen importlib._bootstrap_external>:1411\u001b[0m, in \u001b[0;36m_get_spec\u001b[1;34m(cls, fullname, path, target)\u001b[0m\n",
      "File \u001b[1;32m<frozen importlib._bootstrap_external>:1544\u001b[0m, in \u001b[0;36mfind_spec\u001b[1;34m(self, fullname, target)\u001b[0m\n",
      "File \u001b[1;32m<frozen importlib._bootstrap_external>:147\u001b[0m, in \u001b[0;36m_path_stat\u001b[1;34m(path)\u001b[0m\n",
      "\u001b[1;31mKeyboardInterrupt\u001b[0m: "
     ]
    }
   ],
   "source": [
    "DATA_PATH = os.path.join(\".\", \"data\", \"dataset0.json.gz\")\n",
    "TEST1_PATH = os.path.join(\".\", \"data\", \"dataset1.json.gz\")\n",
    "TEST2_PATH = os.path.join(\".\", \"data\", \"dataset2.json.gz\")\n",
    "LABEL_PATH = os.path.join(\".\", \"data\", \"data.info\")\n",
    "BATCH_SIZE = 128\n",
    "READ_SIZE = 20\n",
    "TRAIN_SIZE = 0.8  # Specify the training size if you're using train-test split\n",
    "\n",
    "rna_data = RNAData(data_path=DATA_PATH, label_path=LABEL_PATH, batch_size=BATCH_SIZE, read_size=READ_SIZE, train=True, train_size=TRAIN_SIZE)"
   ]
  },
  {
   "cell_type": "code",
   "execution_count": 29,
   "metadata": {},
   "outputs": [],
   "source": [
    "# Switch to train mode\n",
    "rna_data.train_mode()\n",
    "    \n",
    "# Get training data\n",
    "train_data_loader = rna_data.data_loader()\n",
    "    \n",
    " # Extract features (X) and labels (y) for training\n",
    "X_train, y_train = zip(*[batch for batch in train_data_loader])\n",
    "X_train = torch.cat(X_train)\n",
    "y_train = torch.cat(y_train)\n",
    "\n",
    "# Switch to eval mode\n",
    "rna_data.eval_mode()\n",
    "\n",
    "# Get test data\n",
    "test_data_loader = rna_data.data_loader()\n",
    "    \n",
    "# Extract features (X) and labels (y) for testing\n",
    "X_test, y_test = zip(*[batch for batch in test_data_loader])\n",
    "X_test = torch.cat(X_test)\n",
    "y_test = torch.cat(y_test)"
   ]
  },
  {
   "cell_type": "code",
   "execution_count": 33,
   "metadata": {},
   "outputs": [
    {
     "name": "stdout",
     "output_type": "stream",
     "text": [
      "Currently pre processing ...\n"
     ]
    }
   ],
   "source": [
    "# Create an instance of the RNAData class for the test data (no labels)\n",
    "test_dataset_0 = RNAData(data_path=DATA_PATH, train=False)\n",
    "\n",
    "# Create a DataLoader for the test data\n",
    "test_dataloader_0 = test_dataset_0.data_loader()\n",
    "\n",
    "# Initialize an empty list to store X_test\n",
    "X_test_0 = []\n",
    "indices = []\n",
    "\n",
    "# Iterate through the DataLoader to load X_test\n",
    "for X, index in test_dataloader_0:\n",
    "    # X contains the features for the current batch\n",
    "    X_test_0.append(X)\n",
    "    # index contains the index in which the site from in the train_transcript_position\n",
    "    indices.extend(index)\n",
    "\n",
    "# finding out the transcript_id and position of each train value\n",
    "rna_test0_sites = test_dataloader_0.train_transcript_position\n",
    "test0_transcript_ids = list(map(lambda x : rna_test0_sites[x][0], indices))\n",
    "test0_transcript_position = list(map(lambda x : rna_test0_sites[x][1], indices))\n",
    "\n",
    "# Concatenate the lists to get the full X_test\n",
    "X_test_0 = torch.cat(X_test_0)\n"
   ]
  },
  {
   "cell_type": "code",
   "execution_count": null,
   "metadata": {},
   "outputs": [
    {
     "name": "stdout",
     "output_type": "stream",
     "text": [
      "Currently pre processing ...\n"
     ]
    }
   ],
   "source": [
    "# Create an instance of the RNAData class for the test data (no labels)\n",
    "test_dataset_1 = RNAData(data_path=TEST1_PATH, train=False)\n",
    "\n",
    "# Create a DataLoader for the test data\n",
    "test_dataloader_1 = test_dataset_1.data_loader()\n",
    "\n",
    "# Initialize an empty list to store X_test\n",
    "X_test_1 = []\n",
    "indices = []\n",
    "\n",
    "# Iterate through the DataLoader to load X_test\n",
    "for X, index in test_dataloader_1:\n",
    "    # X contains the features for the current batch\n",
    "    X_test_1.append(X)\n",
    "    # index contains the index in which the site from in the train_transcript_position\n",
    "    indices.extend(index)\n",
    "\n",
    "# finding out the transcript_id and position of each train value\n",
    "rna_test1_sites = test_dataloader_1.train_transcript_position\n",
    "test1_transcript_ids = list(map(lambda x : rna_test1_sites[x][0], indices))\n",
    "test1_transcript_position = list(map(lambda x : rna_test1_sites[x][1], indices))\n",
    "\n",
    "\n",
    "# Concatenate the lists to get the full X_test\n",
    "X_test_1 = torch.cat(X_test_1)\n"
   ]
  },
  {
   "cell_type": "code",
   "execution_count": null,
   "metadata": {},
   "outputs": [
    {
     "name": "stdout",
     "output_type": "stream",
     "text": [
      "Currently pre processing ...\n"
     ]
    },
    {
     "name": "stdout",
     "output_type": "stream",
     "text": [
      "Pre processing done!\n",
      "Currently encoding ...\n",
      "Encoding done\n"
     ]
    }
   ],
   "source": [
    "# Create an instance of the RNAData class for the test data (no labels)\n",
    "test_dataset_2 = RNAData(data_path=TEST2_PATH, train=False)\n",
    "\n",
    "# Create a DataLoader for the test data\n",
    "test_dataloader_2 = test_dataset_2.data_loader()\n",
    "\n",
    "# Initialize an empty list to store X_test\n",
    "X_test_2 = []\n",
    "indices = []\n",
    "\n",
    "# Iterate through the DataLoader to load X_test\n",
    "for X, index in test_dataloader_2:\n",
    "    # X contains the features for the current batch\n",
    "    X_test_2.append(X)\n",
    "    # index contains the index in which the site from in the train_transcript_position\n",
    "    indices.extend(index)\n",
    "\n",
    "# finding out the transcript_id and position of each train value\n",
    "rna_test2_sites = test_dataloader_2.train_transcript_position\n",
    "test2_transcript_ids = list(map(lambda x : rna_test2_sites[x][0], indices))\n",
    "test2_transcript_position = list(map(lambda x : rna_test2_sites[x][1], indices))\n",
    "\n",
    "# Concatenate the lists to get the full X_test\n",
    "X_test_2 = torch.cat(X_test_2)"
   ]
  },
  {
   "cell_type": "code",
   "execution_count": 10,
   "metadata": {},
   "outputs": [
    {
     "data": {
      "text/plain": [
       "torch.Size([1323, 20, 12])"
      ]
     },
     "execution_count": 10,
     "metadata": {},
     "output_type": "execute_result"
    }
   ],
   "source": [
    "X_test_2.shape"
   ]
  },
  {
   "cell_type": "code",
   "execution_count": 11,
   "metadata": {},
   "outputs": [
    {
     "name": "stdout",
     "output_type": "stream",
     "text": [
      "Classification Report:\n",
      "              precision    recall  f1-score   support\n",
      "\n",
      "           0       0.99      0.84      0.91     23107\n",
      "           1       0.21      0.81      0.34      1232\n",
      "\n",
      "    accuracy                           0.84     24339\n",
      "   macro avg       0.60      0.82      0.62     24339\n",
      "weighted avg       0.95      0.84      0.88     24339\n",
      "\n",
      "ROC AUC Score: 0.9025326628406865\n",
      "PRC AUC Score: 0.4840966259857721\n"
     ]
    },
    {
     "data": {
      "image/png": "[encoded data removed]",
      "text/plain": [
       "<Figure size 1000x500 with 2 Axes>"
      ]
     },
     "metadata": {},
     "output_type": "display_data"
    }
   ],
   "source": [
    "import xgboost as xgb\n",
    "from sklearn.metrics import classification_report, roc_curve, auc, precision_recall_curve, average_precision_score\n",
    "import matplotlib.pyplot as plt\n",
    "import torch\n",
    "\n",
    "def xgboost_classification(X_train, y_train, X_test, y_test, params):\n",
    "    \"\"\"\n",
    "    Perform XGBoost classification, evaluate the model, and plot ROC and PRC curves.\n",
    "\n",
    "    Parameters:\n",
    "    X_train (torch.Tensor): Training features.\n",
    "    y_train (torch.Tensor): Training labels.\n",
    "    X_test (torch.Tensor): Testing features.\n",
    "    y_test (torch.Tensor): Testing labels.\n",
    "    params (dict): Dictionary of XGBoost hyperparameters.\n",
    "\n",
    "    Returns:\n",
    "    None\n",
    "    \"\"\"\n",
    "\n",
    "    # Create an XGBoost classifier\n",
    "    xgb_classifier = xgb.XGBClassifier(**params)\n",
    "\n",
    "    # Fit the XGBoost model\n",
    "    xgb_classifier.fit(X_train.view(X_train.size(0), -1), y_train)\n",
    "\n",
    "    # Predict probabilities\n",
    "    y_pred_prob = xgb_classifier.predict_proba(X_test.view(X_test.size(0), -1))[:, 1]\n",
    "\n",
    "    # Predict labels\n",
    "    y_pred = (y_pred_prob >= 0.5).astype(int)\n",
    "\n",
    "    # Print classification report\n",
    "    print(\"Classification Report:\")\n",
    "    print(classification_report(y_test, y_pred))\n",
    "\n",
    "    # Compute ROC curve\n",
    "    fpr, tpr, thresholds = roc_curve(y_test, y_pred_prob)\n",
    "    roc_auc = auc(fpr, tpr)\n",
    "\n",
    "    # Compute Precision-Recall Curve\n",
    "    precision, recall, _ = precision_recall_curve(y_test, y_pred_prob)\n",
    "\n",
    "    # Calculate the area under the Precision-Recall Curve (PRC)\n",
    "    prc_auc = average_precision_score(y_test, y_pred_prob)\n",
    "\n",
    "    # Print ROC AUC score\n",
    "    print('ROC AUC Score:', roc_auc)\n",
    "\n",
    "    # Print PRC score\n",
    "    print('PRC AUC Score:', prc_auc)\n",
    "\n",
    "    # Plot ROC and PRC curves\n",
    "    plt.figure(figsize=(10, 5))\n",
    "    plt.subplot(1, 2, 1)\n",
    "    plt.plot(fpr, tpr, color='darkorange', lw=2, label='ROC curve (area = %0.2f)' % roc_auc)\n",
    "    plt.plot([0, 1], [0, 1], color='navy', lw=2, linestyle='--')\n",
    "    plt.xlim([0.0, 1.0])\n",
    "    plt.ylim([0.0, 1.05])\n",
    "    plt.xlabel('False Positive Rate')\n",
    "    plt.ylabel('True Positive Rate')\n",
    "    plt.title('Receiver Operating Characteristic')\n",
    "    plt.legend(loc='lower right')\n",
    "\n",
    "    plt.subplot(1, 2, 2)\n",
    "    plt.plot(recall, precision, color='blue', lw=2, label='PRC')\n",
    "    plt.xlabel('Recall')\n",
    "    plt.ylabel('Precision')\n",
    "    plt.title('Precision-Recall Curve')\n",
    "    plt.legend(loc='lower left')\n",
    "\n",
    "    plt.tight_layout()\n",
    "    plt.show()\n",
    "\n",
    "    return y_pred, y_pred_prob, xgb_classifier\n",
    "\n",
    "# Define your XGBoost hyperparameters\n",
    "xgboost_params = {\n",
    "    'learning_rate': 0.1,\n",
    "    'max_depth': 6,\n",
    "    'subsample': 1,\n",
    "}\n",
    "\n",
    "# Call the XGBoost classification function\n",
    "y_pred_0, y_pred_proba_0, model = xgboost_classification(X_train, y_train, X_test, y_test, xgboost_params)\n"
   ]
  },
  {
   "cell_type": "code",
   "execution_count": 15,
   "metadata": {},
   "outputs": [],
   "source": [
    "# Predict probabilities\n",
    "y_pred_prob_0 = model.predict_proba(X_test_0.view(X_test_0.size(0), -1))[:, 1]\n",
    "y_pred_prob_1 = model.predict_proba(X_test_1.view(X_test_1.size(0), -1))[:, 1]\n",
    "y_pred_prob_2 = model.predict_proba(X_test_2.view(X_test_2.size(0), -1))[:, 1]\n"
   ]
  },
  {
   "cell_type": "code",
   "execution_count": null,
   "metadata": {},
   "outputs": [],
   "source": [
    "# creating the output values\n",
    "import pandas as pd\n",
    "\n",
    "# creating the dataframe for each of the predictions\n",
    "dataset0_output = pd.DataFrame({\"transcript_id\" : test0_transcript_ids,\n",
    "                                \"transcript_position\" : test0_transcript_position,\n",
    "                                \"score\" : y_pred_prob_0})\n",
    "\n",
    "dataset1_output = pd.DataFrame({\"transcript_id\" : test1_transcript_ids,\n",
    "                                \"transcript_position\" : test1_transcript_position,\n",
    "                                \"score\" : y_pred_prob_1})\n",
    "\n",
    "dataset2_output = pd.DataFrame({\"transcript_id\" : test2_transcript_ids,\n",
    "                                \"transcript_position\" : test2_transcript_position,\n",
    "                                \"score\" : y_pred_prob_2})\n",
    "\n",
    "# saving the output\n",
    "dataset0_output.to_csv(\"./results/dataset0_pred.csv\", index=False)\n",
    "dataset1_output.to_csv(\"./results/dataset1_pred.csv\", index=False)\n",
    "dataset2_output.to_csv(\"./results/dataset2_pred.csv\", index=False)"
   ]
  },
  {
   "cell_type": "code",
   "execution_count": 16,
   "metadata": {},
   "outputs": [
    {
     "data": {
      "text/plain": [
       "array([0.1997088 , 0.38947952, 0.08239906, ..., 0.90846336, 0.20975839,\n",
       "       0.37460577], dtype=float32)"
      ]
     },
     "execution_count": 16,
     "metadata": {},
     "output_type": "execute_result"
    }
   ],
   "source": [
    "y_pred_prob_1"
   ]
  },
  {
   "cell_type": "code",
   "execution_count": 18,
   "metadata": {},
   "outputs": [
    {
     "data": {
      "text/plain": [
       "torch.Tensor"
      ]
     },
     "execution_count": 18,
     "metadata": {},
     "output_type": "execute_result"
    }
   ],
   "source": [
    "type(X_test_1)"
   ]
  },
  {
   "cell_type": "code",
   "execution_count": 25,
   "metadata": {},
   "outputs": [
    {
     "data": {
      "text/plain": [
       "tensor([[[3.1200e-02, 1.1300e+01, 1.2100e+02,  ..., 4.7000e+01,\n",
       "          3.2000e+01, 8.0000e+00],\n",
       "         [9.6100e-03, 1.1000e+01, 1.1100e+02,  ..., 4.7000e+01,\n",
       "          3.2000e+01, 8.0000e+00],\n",
       "         [2.9400e-03, 8.4200e+00, 1.1700e+02,  ..., 4.7000e+01,\n",
       "          3.2000e+01, 8.0000e+00],\n",
       "         ...,\n",
       "         [2.5000e-03, 9.9100e+00, 1.1400e+02,  ..., 4.7000e+01,\n",
       "          3.2000e+01, 8.0000e+00],\n",
       "         [3.3500e-02, 4.4500e+00, 1.2500e+02,  ..., 4.7000e+01,\n",
       "          3.2000e+01, 8.0000e+00],\n",
       "         [1.0300e-02, 1.0100e+01, 1.2400e+02,  ..., 4.7000e+01,\n",
       "          3.2000e+01, 8.0000e+00]],\n",
       "\n",
       "        [[1.9900e-03, 3.4200e+00, 1.0400e+02,  ..., 2.4000e+01,\n",
       "          1.0000e+00, 6.0000e+00],\n",
       "         [3.4000e-02, 2.3500e+00, 1.0700e+02,  ..., 2.4000e+01,\n",
       "          1.0000e+00, 6.0000e+00],\n",
       "         [6.8800e-03, 2.3500e+00, 1.0600e+02,  ..., 2.4000e+01,\n",
       "          1.0000e+00, 6.0000e+00],\n",
       "         ...,\n",
       "         [6.9000e-03, 2.6800e+00, 1.0600e+02,  ..., 2.4000e+01,\n",
       "          1.0000e+00, 6.0000e+00],\n",
       "         [5.6400e-03, 1.6200e+00, 1.0400e+02,  ..., 2.4000e+01,\n",
       "          1.0000e+00, 6.0000e+00],\n",
       "         [3.3500e-03, 2.6900e+00, 1.0500e+02,  ..., 2.4000e+01,\n",
       "          1.0000e+00, 6.0000e+00]],\n",
       "\n",
       "        [[4.1300e-03, 2.1500e+00, 1.0700e+02,  ..., 2.4000e+01,\n",
       "          3.0000e+00, 1.3000e+01],\n",
       "         [9.3000e-03, 1.7300e+00, 1.1100e+02,  ..., 2.4000e+01,\n",
       "          3.0000e+00, 1.3000e+01],\n",
       "         [3.9800e-03, 2.0200e+00, 1.1200e+02,  ..., 2.4000e+01,\n",
       "          3.0000e+00, 1.3000e+01],\n",
       "         ...,\n",
       "         [3.6500e-03, 1.8100e+00, 1.1100e+02,  ..., 2.4000e+01,\n",
       "          3.0000e+00, 1.3000e+01],\n",
       "         [1.4300e-02, 3.2400e+00, 1.0900e+02,  ..., 2.4000e+01,\n",
       "          3.0000e+00, 1.3000e+01],\n",
       "         [8.6300e-03, 1.6100e+00, 1.1100e+02,  ..., 2.4000e+01,\n",
       "          3.0000e+00, 1.3000e+01]],\n",
       "\n",
       "        ...,\n",
       "\n",
       "        [[3.9800e-03, 2.2800e+00, 9.0600e+01,  ..., 6.4000e+01,\n",
       "          5.5000e+01, 6.0000e+00],\n",
       "         [7.5200e-03, 1.5800e+00, 8.9100e+01,  ..., 6.4000e+01,\n",
       "          5.5000e+01, 6.0000e+00],\n",
       "         [4.9800e-03, 2.0500e+00, 9.1200e+01,  ..., 6.4000e+01,\n",
       "          5.5000e+01, 6.0000e+00],\n",
       "         ...,\n",
       "         [5.3100e-03, 1.4400e+00, 8.8000e+01,  ..., 6.4000e+01,\n",
       "          5.5000e+01, 6.0000e+00],\n",
       "         [3.3200e-03, 1.5000e+00, 8.8800e+01,  ..., 6.4000e+01,\n",
       "          5.5000e+01, 6.0000e+00],\n",
       "         [3.2300e-03, 1.9200e+00, 9.1700e+01,  ..., 6.4000e+01,\n",
       "          5.5000e+01, 6.0000e+00]],\n",
       "\n",
       "        [[6.1800e-03, 7.3500e+00, 1.3200e+02,  ..., 1.7000e+01,\n",
       "          3.2000e+01, 9.0000e+00],\n",
       "         [3.8900e-03, 5.7600e+00, 1.3300e+02,  ..., 1.7000e+01,\n",
       "          3.2000e+01, 9.0000e+00],\n",
       "         [8.5500e-03, 4.7000e+00, 1.2900e+02,  ..., 1.7000e+01,\n",
       "          3.2000e+01, 9.0000e+00],\n",
       "         ...,\n",
       "         [4.5400e-03, 7.3700e+00, 1.2800e+02,  ..., 1.7000e+01,\n",
       "          3.2000e+01, 9.0000e+00],\n",
       "         [1.0200e-02, 5.5400e+00, 1.3300e+02,  ..., 1.7000e+01,\n",
       "          3.2000e+01, 9.0000e+00],\n",
       "         [1.1300e-02, 5.0700e+00, 1.3300e+02,  ..., 1.7000e+01,\n",
       "          3.2000e+01, 9.0000e+00]],\n",
       "\n",
       "        [[4.7500e-03, 1.7700e+00, 1.0400e+02,  ..., 5.4000e+01,\n",
       "          2.0000e+00, 8.0000e+00],\n",
       "         [7.4200e-03, 1.7700e+00, 1.0200e+02,  ..., 5.4000e+01,\n",
       "          2.0000e+00, 8.0000e+00],\n",
       "         [5.5200e-03, 1.2600e+00, 1.0400e+02,  ..., 5.4000e+01,\n",
       "          2.0000e+00, 8.0000e+00],\n",
       "         ...,\n",
       "         [8.6300e-03, 1.8900e+00, 9.8800e+01,  ..., 5.4000e+01,\n",
       "          2.0000e+00, 8.0000e+00],\n",
       "         [7.8300e-03, 1.5600e+00, 1.0200e+02,  ..., 5.4000e+01,\n",
       "          2.0000e+00, 8.0000e+00],\n",
       "         [9.5500e-03, 2.5400e+00, 1.0100e+02,  ..., 5.4000e+01,\n",
       "          2.0000e+00, 8.0000e+00]]], dtype=torch.float64)"
      ]
     },
     "execution_count": 25,
     "metadata": {},
     "output_type": "execute_result"
    }
   ],
   "source": [
    "X_test"
   ]
  }
 ],
 "metadata": {
  "kernelspec": {
   "display_name": "base",
   "language": "python",
   "name": "python3"
  },
  "language_info": {
   "codemirror_mode": {
    "name": "ipython",
    "version": 3
   },
   "file_extension": ".py",
   "mimetype": "text/x-python",
   "name": "python",
   "nbconvert_exporter": "python",
   "pygments_lexer": "ipython3",
   "version": "3.10.12"
  }
 },
 "nbformat": 4,
 "nbformat_minor": 2
}
