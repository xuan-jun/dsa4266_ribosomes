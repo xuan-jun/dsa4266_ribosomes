{
 "cells": [
  {
   "cell_type": "code",
   "execution_count": 1,
   "metadata": {},
   "outputs": [],
   "source": [
    "# general purpose libraries\n",
    "import numpy as np\n",
    "import pandas as pd\n",
    "import os\n",
    "from tqdm import tqdm\n",
    "\n",
    "# torch libraries\n",
    "import torch\n",
    "import torch.nn as nn\n",
    "import torchmetrics\n",
    "from torcheval.metrics.functional import binary_auprc\n",
    "\n",
    "# model libraries\n",
    "from neural_net_pre_process import RNAData"
   ]
  },
  {
   "cell_type": "code",
   "execution_count": 2,
   "metadata": {},
   "outputs": [
    {
     "name": "stdout",
     "output_type": "stream",
     "text": [
      "Currently pre processing ...\n",
      "Pre processing done!\n",
      "Currently labelling ...\n",
      "Labelling done\n",
      "Currently Splitting ...\n",
      "Splitting done\n",
      "Currently encoding ...\n",
      "Encoding done\n"
     ]
    }
   ],
   "source": [
    "DATA_PATH = os.path.join(\".\", \"data\", \"dataset0.json.gz\")\n",
    "TEST1_PATH = os.path.join(\".\", \"data\", \"dataset1.json.gz\")\n",
    "TEST2_PATH = os.path.join(\".\", \"data\", \"dataset2.json.gz\")\n",
    "LABEL_PATH = os.path.join(\".\", \"data\", \"data.info\")\n",
    "BATCH_SIZE = 128\n",
    "READ_SIZE = 20\n",
    "TRAIN_SIZE = 0.8  # Specify the training size if you're using train-test split\n",
    "\n",
    "rna_data = RNAData(data_path=DATA_PATH, label_path=LABEL_PATH, batch_size=BATCH_SIZE, read_size=READ_SIZE, train=True, train_size=TRAIN_SIZE)\n"
   ]
  },
  {
   "cell_type": "code",
   "execution_count": 3,
   "metadata": {},
   "outputs": [],
   "source": [
    "# Switch to train mode\n",
    "rna_data.train_mode()\n",
    "    \n",
    "# Get training data\n",
    "train_data_loader = rna_data.data_loader()\n",
    "    \n",
    " # Extract features (X) and labels (y) for training\n",
    "X_train, y_train = zip(*[batch for batch in train_data_loader])\n",
    "X_train = torch.cat(X_train)\n",
    "y_train = torch.cat(y_train)\n",
    "\n",
    "# Switch to eval mode\n",
    "rna_data.eval_mode()\n",
    "\n",
    "# Get test data\n",
    "test_data_loader = rna_data.data_loader()\n",
    "    \n",
    "# Extract features (X) and labels (y) for testing\n",
    "X_test, y_test = zip(*[batch for batch in test_data_loader])\n",
    "X_test = torch.cat(X_test)\n",
    "y_test = torch.cat(y_test)"
   ]
  },
  {
   "cell_type": "code",
   "execution_count": 4,
   "metadata": {},
   "outputs": [
    {
     "data": {
      "text/plain": [
       "torch.Size([24339, 20, 12])"
      ]
     },
     "execution_count": 4,
     "metadata": {},
     "output_type": "execute_result"
    }
   ],
   "source": [
    "X_test.shape\n",
    "\n",
    "\n"
   ]
  },
  {
   "cell_type": "code",
   "execution_count": 5,
   "metadata": {},
   "outputs": [
    {
     "data": {
      "text/plain": [
       "24339"
      ]
     },
     "execution_count": 5,
     "metadata": {},
     "output_type": "execute_result"
    }
   ],
   "source": [
    "transcript_pos_0 = rna_data.test_transcript_position\n",
    "len(transcript_pos_0)\n"
   ]
  },
  {
   "cell_type": "code",
   "execution_count": 6,
   "metadata": {},
   "outputs": [
    {
     "data": {
      "text/plain": [
       "neural_net_pre_process.RNAData"
      ]
     },
     "execution_count": 6,
     "metadata": {},
     "output_type": "execute_result"
    }
   ],
   "source": [
    "type(rna_data)\n"
   ]
  },
  {
   "cell_type": "code",
   "execution_count": 7,
   "metadata": {},
   "outputs": [
    {
     "name": "stdout",
     "output_type": "stream",
     "text": [
      "Currently pre processing ...\n",
      "Pre processing done!\n",
      "Currently encoding ...\n",
      "Encoding done\n"
     ]
    }
   ],
   "source": [
    "# Create an instance of the RNAData class for the test data (no labels)\n",
    "test_dataset_0 = RNAData(data_path=DATA_PATH, train=False)\n",
    "\n",
    "# Create a DataLoader for the test data\n",
    "test_dataloader_0 = test_dataset_0.data_loader()\n",
    "\n",
    "# Initialize an empty list to store X_test\n",
    "X_test_0 = []\n",
    "indices = []\n",
    "\n",
    "# Iterate through the DataLoader to load X_test\n",
    "for X, index in test_dataloader_0:\n",
    "    # X contains the features for the current batch\n",
    "    X_test_0.append(X)\n",
    "    # index contains the index in which the site from in the train_transcript_position\n",
    "    indices.extend(index)\n",
    "\n",
    "# finding out the transcript_id and position of each train value\n",
    "rna_test0_sites = test_dataset_0.train_transcript_position\n",
    "test0_transcript_ids = list(map(lambda x : rna_test0_sites[x][0], indices))\n",
    "test0_transcript_position = list(map(lambda x : rna_test0_sites[x][1], indices))\n",
    "\n",
    "\n",
    "# Concatenate the lists to get the full X_test\n",
    "X_test_0 = torch.cat(X_test_0)"
   ]
  },
  {
   "cell_type": "code",
   "execution_count": 8,
   "metadata": {},
   "outputs": [
    {
     "name": "stdout",
     "output_type": "stream",
     "text": [
      "Currently pre processing ...\n",
      "Pre processing done!\n",
      "Currently encoding ...\n",
      "Encoding done\n"
     ]
    }
   ],
   "source": [
    "# Create an instance of the RNAData class for the test data (no labels)\n",
    "test_dataset_1 = RNAData(data_path=TEST1_PATH, train=False)\n",
    "\n",
    "# Create a DataLoader for the test data\n",
    "test_dataloader_1 = test_dataset_1.data_loader()\n",
    "\n",
    "# Initialize an empty list to store X_test\n",
    "X_test_1 = []\n",
    "indices = []\n",
    "\n",
    "# Iterate through the DataLoader to load X_test\n",
    "for X, index in test_dataloader_1:\n",
    "    # X contains the features for the current batch\n",
    "    X_test_1.append(X)\n",
    "    # index contains the index in which the site from in the train_transcript_position\n",
    "    indices.extend(index)\n",
    "\n",
    "# finding out the transcript_id and position of each train value\n",
    "rna_test1_sites = test_dataset_1.train_transcript_position\n",
    "test1_transcript_ids = list(map(lambda x : rna_test1_sites[x][0], indices))\n",
    "test1_transcript_position = list(map(lambda x : rna_test1_sites[x][1], indices))\n",
    "\n",
    "\n",
    "# Concatenate the lists to get the full X_test\n",
    "X_test_1 = torch.cat(X_test_1)"
   ]
  },
  {
   "cell_type": "code",
   "execution_count": 9,
   "metadata": {},
   "outputs": [
    {
     "name": "stdout",
     "output_type": "stream",
     "text": [
      "Currently pre processing ...\n",
      "Pre processing done!\n",
      "Currently encoding ...\n",
      "Encoding done\n"
     ]
    }
   ],
   "source": [
    "#  Create an instance of the RNAData class for the test data (no labels)\n",
    "test_dataset_2 = RNAData(data_path=TEST2_PATH, train=False)\n",
    "\n",
    "# Create a DataLoader for the test data\n",
    "test_dataloader_2 = test_dataset_2.data_loader()\n",
    "\n",
    "# Initialize an empty list to store X_test\n",
    "X_test_2 = []\n",
    "indices = []\n",
    "\n",
    "# Iterate through the DataLoader to load X_test\n",
    "for X, index in test_dataloader_2:\n",
    "    # X contains the features for the current batch\n",
    "    X_test_2.append(X)\n",
    "    # index contains the index in which the site from in the train_transcript_position\n",
    "    indices.extend(index)\n",
    "\n",
    "# finding out the transcript_id and position of each train value\n",
    "rna_test2_sites = test_dataset_2.train_transcript_position\n",
    "test2_transcript_ids = list(map(lambda x : rna_test2_sites[x][0], indices))\n",
    "test2_transcript_position = list(map(lambda x : rna_test2_sites[x][1], indices))\n",
    "\n",
    "# Concatenate the lists to get the full X_test\n",
    "X_test_2 = torch.cat(X_test_2)"
   ]
  },
  {
   "cell_type": "code",
   "execution_count": 11,
   "metadata": {},
   "outputs": [
    {
     "name": "stdout",
     "output_type": "stream",
     "text": [
      "Classification Report:\n",
      "              precision    recall  f1-score   support\n",
      "\n",
      "           0       0.95      0.54      0.69     23107\n",
      "           1       0.05      0.48      0.09      1232\n",
      "\n",
      "    accuracy                           0.53     24339\n",
      "   macro avg       0.50      0.51      0.39     24339\n",
      "weighted avg       0.90      0.53      0.66     24339\n",
      "\n",
      "ROC AUC Score: 0.5087631039168994\n",
      "PRC AUC Score: 0.051216357481594525\n"
     ]
    },
    {
     "data": {
      "image/png": "[encoded data removed]",
      "text/plain": [
       "<Figure size 720x360 with 2 Axes>"
      ]
     },
     "metadata": {
      "needs_background": "light"
     },
     "output_type": "display_data"
    }
   ],
   "source": [
    "from sklearn.ensemble import RandomForestClassifier\n",
    "from sklearn.metrics import classification_report, roc_curve, auc, precision_recall_curve, average_precision_score, accuracy_score\n",
    "import matplotlib.pyplot as plt\n",
    "\n",
    "def rf_classification(X_train, y_train, X_test, y_test):\n",
    "    \"\"\"\n",
    "    Perform random forest classification, evaluate the model, and plot ROC and PRC curves.\n",
    "\n",
    "    Parameters:\n",
    "    X_train (torch.Tensor): Training features.\n",
    "    y_train (torch.Tensor): Training labels.\n",
    "    X_test (torch.Tensor): Testing features.\n",
    "    y_test (torch.Tensor): Testing labels.\n",
    "\n",
    "    Returns:\n",
    "    None\n",
    "    \"\"\"\n",
    "\n",
    "    X_train_exp = X_train.view(-1, 12).numpy()\n",
    "    X_test_exp = X_test.view(-1, 12).numpy()\n",
    "    y_train_exp = y_train.repeat(20).numpy()\n",
    "\n",
    "    # Create a randomforest classifier\n",
    "    rf_classifier = RandomForestClassifier(n_estimators=30, random_state=30)\n",
    "\n",
    "    # Fit the randomforest model\n",
    "    rf_classifier.fit(X_train_exp, y_train_exp)\n",
    "\n",
    "    # Predict probabilities\n",
    "    y_pred_prob = rf_classifier.predict_proba(X_test_exp)[:, 1]\n",
    "\n",
    "    #Calculate probabilities for each site\n",
    "    new = y_pred_prob.reshape(int(len(y_pred_prob))//20, 20)\n",
    "    y_pred_prob_sim = np.mean(new, axis=1)\n",
    "\n",
    "    # Predict labels\n",
    "    y_pred = (y_pred_prob_sim >= 0.5).astype(int)\n",
    "\n",
    "    # Print classification report\n",
    "    print(\"Classification Report:\")\n",
    "    print(classification_report(y_test, y_pred))\n",
    "\n",
    "    # Compute ROC curve\n",
    "    fpr, tpr, thresholds = roc_curve(y_test, y_pred_prob_sim)\n",
    "    roc_auc = auc(fpr, tpr)\n",
    "\n",
    "    # Compute Precision-Recall Curve\n",
    "    precision, recall, _ = precision_recall_curve(y_test, y_pred_prob_sim)\n",
    "\n",
    "    # Calculate the area under the Precision-Recall Curve (PRC)\n",
    "    prc_auc = average_precision_score(y_test, y_pred)\n",
    "    \n",
    "    # Print ROC AUC score\n",
    "    print('ROC AUC Score:', roc_auc)\n",
    "\n",
    "    # Print PRC score\n",
    "    print('PRC AUC Score:', prc_auc)\n",
    "\n",
    "    # Plot ROC and PRC curves\n",
    "    plt.figure(figsize=(10, 5))\n",
    "    plt.subplot(1, 2, 1)\n",
    "    plt.plot(fpr, tpr, color='darkorange', lw=2, label='ROC curve (area = %0.2f)' % roc_auc)\n",
    "    plt.plot([0, 1], [0, 1], color='navy', lw=2, linestyle='--')\n",
    "    plt.xlim([0.0, 1.0])\n",
    "    plt.ylim([0.0, 1.05])\n",
    "    plt.xlabel('False Positive Rate')\n",
    "    plt.ylabel('True Positive Rate')\n",
    "    plt.title('Receiver Operating Characteristic')\n",
    "    plt.legend(loc='lower right')\n",
    "\n",
    "    plt.subplot(1, 2, 2)\n",
    "    plt.plot(recall, precision, color='blue', lw=2, label='PRC')\n",
    "    plt.xlabel('Recall')\n",
    "    plt.ylabel('Precision')\n",
    "    plt.title('Precision-Recall Curve')\n",
    "    plt.legend(loc='lower left')\n",
    "\n",
    "    plt.tight_layout()\n",
    "    plt.show()\n",
    "\n",
    "    return y_pred_prob_sim, rf_classifier\n",
    "\n",
    "\n",
    "# Call the random forest classification function\n",
    "y_pred_proba_0, model = rf_classification(X_train, y_train, X_test, y_test)"
   ]
  }
 ],
 "metadata": {
  "kernelspec": {
   "display_name": "Python 3",
   "language": "python",
   "name": "python3"
  },
  "language_info": {
   "codemirror_mode": {
    "name": "ipython",
    "version": 3
   },
   "file_extension": ".py",
   "mimetype": "text/x-python",
   "name": "python",
   "nbconvert_exporter": "python",
   "pygments_lexer": "ipython3",
   "version": "3.8.10"
  }
 },
 "nbformat": 4,
 "nbformat_minor": 2
}
