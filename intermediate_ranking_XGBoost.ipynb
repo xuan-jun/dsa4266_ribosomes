{
 "cells": [
  {
   "cell_type": "code",
   "execution_count": 1,
   "metadata": {},
   "outputs": [],
   "source": [
    "# general purpose libraries\n",
    "import numpy as np\n",
    "import pandas as pd\n",
    "import os\n",
    "from tqdm import tqdm\n",
    "\n",
    "# torch libraries\n",
    "import torch\n",
    "import torch.nn as nn\n",
    "import torchmetrics\n",
    "from torcheval.metrics.functional import binary_auprc\n",
    "\n",
    "# model libraries\n",
    "from neural_net_pre_process import RNAData"
   ]
  },
  {
   "cell_type": "code",
   "execution_count": 2,
   "metadata": {},
   "outputs": [
    {
     "name": "stdout",
     "output_type": "stream",
     "text": [
      "Currently pre processing ...\n",
      "Pre processing done!\n",
      "Currently labelling ...\n",
      "Labelling done\n",
      "Currently Splitting ...\n",
      "Splitting done\n",
      "Currently encoding ...\n",
      "Encoding done\n"
     ]
    }
   ],
   "source": [
    "DATA_PATH = os.path.join(\".\", \"data\", \"dataset0.json.gz\")\n",
    "TEST1_PATH = os.path.join(\".\", \"data\", \"dataset1.json.gz\")\n",
    "TEST2_PATH = os.path.join(\".\", \"data\", \"dataset2.json.gz\")\n",
    "LABEL_PATH = os.path.join(\".\", \"data\", \"data.info\")\n",
    "BATCH_SIZE = 128\n",
    "READ_SIZE = 20\n",
    "TRAIN_SIZE = 0.8  # Specify the training size if you're using train-test split\n",
    "\n",
    "rna_data = RNAData(data_path=DATA_PATH, label_path=LABEL_PATH, batch_size=BATCH_SIZE, read_size=READ_SIZE, train=True, train_size=TRAIN_SIZE)"
   ]
  },
  {
   "cell_type": "code",
   "execution_count": 11,
   "metadata": {},
   "outputs": [],
   "source": [
    "# Switch to train mode\n",
    "rna_data.train_mode()\n",
    "    \n",
    "# Get training data\n",
    "train_data_loader = rna_data.data_loader()\n",
    "    \n",
    " # Extract features (X) and labels (y) for training\n",
    "X_train, y_train = zip(*[batch for batch in train_data_loader])\n",
    "X_train = torch.cat(X_train)\n",
    "y_train = torch.cat(y_train)\n",
    "\n",
    "# Switch to eval mode\n",
    "rna_data.eval_mode()\n",
    "\n",
    "# Get test data\n",
    "test_data_loader = rna_data.data_loader()\n",
    "    \n",
    "# Extract features (X) and labels (y) for testing\n",
    "X_test, y_test = zip(*[batch for batch in test_data_loader])\n",
    "X_test = torch.cat(X_test)\n",
    "y_test = torch.cat(y_test)"
   ]
  },
  {
   "cell_type": "code",
   "execution_count": 14,
   "metadata": {},
   "outputs": [
    {
     "data": {
      "text/plain": [
       "torch.Size([24339, 20, 12])"
      ]
     },
     "execution_count": 14,
     "metadata": {},
     "output_type": "execute_result"
    }
   ],
   "source": [
    "X_test.shape"
   ]
  },
  {
   "cell_type": "code",
   "execution_count": 21,
   "metadata": {},
   "outputs": [
    {
     "data": {
      "text/plain": [
       "24339"
      ]
     },
     "execution_count": 21,
     "metadata": {},
     "output_type": "execute_result"
    }
   ],
   "source": [
    "transcript_pos_0 = rna_data.test_transcript_position\n",
    "len(transcript_pos_0)"
   ]
  },
  {
   "cell_type": "code",
   "execution_count": 25,
   "metadata": {},
   "outputs": [
    {
     "data": {
      "text/plain": [
       "neural_net_pre_process.RNAData"
      ]
     },
     "execution_count": 25,
     "metadata": {},
     "output_type": "execute_result"
    }
   ],
   "source": [
    "type(rna_data)"
   ]
  },
  {
   "cell_type": "code",
   "execution_count": 28,
   "metadata": {},
   "outputs": [
    {
     "data": {
      "text/plain": [
       "90810"
      ]
     },
     "execution_count": 28,
     "metadata": {},
     "output_type": "execute_result"
    }
   ],
   "source": [
    "len(test_dataset_1.train_transcript_position)"
   ]
  },
  {
   "cell_type": "code",
   "execution_count": 66,
   "metadata": {},
   "outputs": [
    {
     "name": "stdout",
     "output_type": "stream",
     "text": [
      "Currently pre processing ...\n",
      "Pre processing done!\n",
      "Currently encoding ...\n",
      "Encoding done\n"
     ]
    }
   ],
   "source": [
    "# Create an instance of the RNAData class for the test data (no labels)\n",
    "test_dataset_0 = RNAData(data_path=DATA_PATH, train=False)\n",
    "\n",
    "# Create a DataLoader for the test data\n",
    "test_dataloader_0 = test_dataset_0.data_loader()\n",
    "\n",
    "# Initialize an empty list to store X_test\n",
    "X_test_0 = []\n",
    "indices = []\n",
    "\n",
    "# Iterate through the DataLoader to load X_test\n",
    "for X, index in test_dataloader_0:\n",
    "    # X contains the features for the current batch\n",
    "    X_test_0.append(X)\n",
    "    # index contains the index in which the site from in the train_transcript_position\n",
    "    indices.extend(index)\n",
    "\n",
    "# finding out the transcript_id and position of each train value\n",
    "rna_test0_sites = test_dataset_0.train_transcript_position\n",
    "test0_transcript_ids = list(map(lambda x : rna_test0_sites[x][0], indices))\n",
    "test0_transcript_position = list(map(lambda x : rna_test0_sites[x][1], indices))\n",
    "\n",
    "\n",
    "# Concatenate the lists to get the full X_test\n",
    "X_test_0 = torch.cat(X_test_0)"
   ]
  },
  {
   "cell_type": "code",
   "execution_count": 29,
   "metadata": {},
   "outputs": [
    {
     "name": "stdout",
     "output_type": "stream",
     "text": [
      "Currently pre processing ...\n",
      "Pre processing done!\n",
      "Currently encoding ...\n",
      "Encoding done\n"
     ]
    }
   ],
   "source": [
    "# Create an instance of the RNAData class for the test data (no labels)\n",
    "test_dataset_1 = RNAData(data_path=TEST1_PATH, train=False)\n",
    "\n",
    "# Create a DataLoader for the test data\n",
    "test_dataloader_1 = test_dataset_1.data_loader()\n",
    "\n",
    "# Initialize an empty list to store X_test\n",
    "X_test_1 = []\n",
    "indices = []\n",
    "\n",
    "# Iterate through the DataLoader to load X_test\n",
    "for X, index in test_dataloader_1:\n",
    "    # X contains the features for the current batch\n",
    "    X_test_1.append(X)\n",
    "    # index contains the index in which the site from in the train_transcript_position\n",
    "    indices.extend(index)\n",
    "\n",
    "# finding out the transcript_id and position of each train value\n",
    "rna_test1_sites = test_dataset_1.train_transcript_position\n",
    "test1_transcript_ids = list(map(lambda x : rna_test1_sites[x][0], indices))\n",
    "test1_transcript_position = list(map(lambda x : rna_test1_sites[x][1], indices))\n",
    "\n",
    "\n",
    "# Concatenate the lists to get the full X_test\n",
    "X_test_1 = torch.cat(X_test_1)"
   ]
  },
  {
   "cell_type": "code",
   "execution_count": 33,
   "metadata": {},
   "outputs": [
    {
     "name": "stdout",
     "output_type": "stream",
     "text": [
      "Currently pre processing ...\n",
      "Pre processing done!\n",
      "Currently encoding ...\n",
      "Encoding done\n"
     ]
    }
   ],
   "source": [
    "#  Create an instance of the RNAData class for the test data (no labels)\n",
    "test_dataset_2 = RNAData(data_path=TEST2_PATH, train=False)\n",
    "\n",
    "# Create a DataLoader for the test data\n",
    "test_dataloader_2 = test_dataset_2.data_loader()\n",
    "\n",
    "# Initialize an empty list to store X_test\n",
    "X_test_2 = []\n",
    "indices = []\n",
    "\n",
    "# Iterate through the DataLoader to load X_test\n",
    "for X, index in test_dataloader_2:\n",
    "    # X contains the features for the current batch\n",
    "    X_test_2.append(X)\n",
    "    # index contains the index in which the site from in the train_transcript_position\n",
    "    indices.extend(index)\n",
    "\n",
    "# finding out the transcript_id and position of each train value\n",
    "rna_test2_sites = test_dataset_2.train_transcript_position\n",
    "test2_transcript_ids = list(map(lambda x : rna_test2_sites[x][0], indices))\n",
    "test2_transcript_position = list(map(lambda x : rna_test2_sites[x][1], indices))\n",
    "\n",
    "# Concatenate the lists to get the full X_test\n",
    "X_test_2 = torch.cat(X_test_2)"
   ]
  },
  {
   "cell_type": "code",
   "execution_count": 127,
   "metadata": {},
   "outputs": [
    {
     "name": "stdout",
     "output_type": "stream",
     "text": [
      "Classification Report:\n",
      "              precision    recall  f1-score   support\n",
      "\n",
      "           0       0.97      0.15      0.26     23107\n",
      "           1       0.05      0.90      0.10      1232\n",
      "\n",
      "    accuracy                           0.19     24339\n",
      "   macro avg       0.51      0.52      0.18     24339\n",
      "weighted avg       0.92      0.19      0.25     24339\n",
      "\n",
      "ROC AUC Score: 0.5755111630590382\n",
      "PRC AUC Score: 0.06282863587974893\n"
     ]
    },
    {
     "data": {
      "image/png": "[encoded data removed]",
      "text/plain": [
       "<Figure size 1000x500 with 2 Axes>"
      ]
     },
     "metadata": {},
     "output_type": "display_data"
    }
   ],
   "source": [
    "import xgboost as xgb\n",
    "from sklearn.metrics import classification_report, roc_curve, auc, precision_recall_curve, average_precision_score\n",
    "import matplotlib.pyplot as plt\n",
    "import torch\n",
    "\n",
    "def xgboost_classification(X_train, y_train, X_test, y_test, params):\n",
    "    \"\"\"\n",
    "    Perform XGBoost classification, evaluate the model, and plot ROC and PRC curves.\n",
    "\n",
    "    Parameters:\n",
    "    X_train (torch.Tensor): Training features.\n",
    "    y_train (torch.Tensor): Training labels.\n",
    "    X_test (torch.Tensor): Testing features.\n",
    "    y_test (torch.Tensor): Testing labels.\n",
    "    params (dict): Dictionary of XGBoost hyperparameters.\n",
    "\n",
    "    Returns:\n",
    "    None\n",
    "    \"\"\"\n",
    "\n",
    "    X_train_exp = X_train.view(-1, 12).numpy()\n",
    "    X_test_exp = X_test.view(-1, 12).numpy()\n",
    "    y_train_exp = y_train.repeat(20).numpy()\n",
    "\n",
    "    # Create an XGBoost classifier\n",
    "    xgb_classifier = xgb.XGBClassifier(**params)\n",
    "\n",
    "    # Fit the XGBoost model\n",
    "    xgb_classifier.fit(X_train_exp, y_train_exp)\n",
    "\n",
    "    # Predict probabilities\n",
    "    y_pred_prob = xgb_classifier.predict_proba(X_test_exp)[:, 1]\n",
    "\n",
    "    #Calculate probabilities for each site\n",
    "    new = y_pred_prob.reshape(int(len(y_pred_prob))//20, 20)\n",
    "    y_pred_prob_sim = np.mean(new, axis=1)\n",
    "\n",
    "    # Predict labels\n",
    "    y_pred = (y_pred_prob_sim >= 0.5).astype(int)\n",
    "\n",
    "    # Print classification report\n",
    "    print(\"Classification Report:\")\n",
    "    print(classification_report(y_test, y_pred))\n",
    "\n",
    "    # Compute ROC curve\n",
    "    fpr, tpr, thresholds = roc_curve(y_test, y_pred_prob_sim)\n",
    "    roc_auc = auc(fpr, tpr)\n",
    "\n",
    "    # Compute Precision-Recall Curve\n",
    "    precision, recall, _ = precision_recall_curve(y_test, y_pred_prob_sim)\n",
    "\n",
    "    # Calculate the area under the Precision-Recall Curve (PRC)\n",
    "    prc_auc = average_precision_score(y_test, y_pred_prob_sim)\n",
    "\n",
    "    # Print ROC AUC score\n",
    "    print('ROC AUC Score:', roc_auc)\n",
    "\n",
    "    # Print PRC score\n",
    "    print('PRC AUC Score:', prc_auc)\n",
    "\n",
    "    # Plot ROC and PRC curves\n",
    "    plt.figure(figsize=(10, 5))\n",
    "    plt.subplot(1, 2, 1)\n",
    "    plt.plot(fpr, tpr, color='darkorange', lw=2, label='ROC curve (area = %0.2f)' % roc_auc)\n",
    "    plt.plot([0, 1], [0, 1], color='navy', lw=2, linestyle='--')\n",
    "    plt.xlim([0.0, 1.0])\n",
    "    plt.ylim([0.0, 1.05])\n",
    "    plt.xlabel('False Positive Rate')\n",
    "    plt.ylabel('True Positive Rate')\n",
    "    plt.title('Receiver Operating Characteristic')\n",
    "    plt.legend(loc='lower right')\n",
    "\n",
    "    plt.subplot(1, 2, 2)\n",
    "    plt.plot(recall, precision, color='blue', lw=2, label='PRC')\n",
    "    plt.xlabel('Recall')\n",
    "    plt.ylabel('Precision')\n",
    "    plt.title('Precision-Recall Curve')\n",
    "    plt.legend(loc='lower left')\n",
    "\n",
    "    plt.tight_layout()\n",
    "    plt.show()\n",
    "\n",
    "    return y_pred_prob_sim, xgb_classifier\n",
    "\n",
    "# Define your XGBoost hyperparameters\n",
    "xgboost_params = {\n",
    "    'learning_rate': 0.1,\n",
    "    'max_depth': 6,\n",
    "    'subsample': 1,\n",
    "}\n",
    "\n",
    "# Call the XGBoost classification function\n",
    "y_pred_proba_0, model = xgboost_classification(X_train, y_train, X_test, y_test, xgboost_params)\n"
   ]
  },
  {
   "cell_type": "code",
   "execution_count": 125,
   "metadata": {},
   "outputs": [
    {
     "data": {
      "text/plain": [
       "torch.Size([97499, 20, 12])"
      ]
     },
     "execution_count": 125,
     "metadata": {},
     "output_type": "execute_result"
    }
   ],
   "source": [
    "X_train.shape"
   ]
  },
  {
   "cell_type": "code",
   "execution_count": 96,
   "metadata": {},
   "outputs": [
    {
     "data": {
      "text/plain": [
       "numpy.ndarray"
      ]
     },
     "execution_count": 96,
     "metadata": {},
     "output_type": "execute_result"
    }
   ],
   "source": [
    "type(y_pred_proba_0"
   ]
  },
  {
   "cell_type": "code",
   "execution_count": 67,
   "metadata": {},
   "outputs": [],
   "source": [
    "# Predict probabilities\n",
    "y_pred_proba_0 = model.predict_proba(X_test_0.view(X_test_0.size(0), -1))[:, 1]\n",
    "y_pred_proba_1 = model.predict_proba(X_test_1.view(X_test_1.size(0), -1))[:, 1]\n",
    "y_pred_proba_2 = model.predict_proba(X_test_2.view(X_test_2.size(0), -1))[:, 1]\n"
   ]
  },
  {
   "cell_type": "code",
   "execution_count": 68,
   "metadata": {},
   "outputs": [
    {
     "data": {
      "text/html": [
       "<div>\n",
       "<style scoped>\n",
       "    .dataframe tbody tr th:only-of-type {\n",
       "        vertical-align: middle;\n",
       "    }\n",
       "\n",
       "    .dataframe tbody tr th {\n",
       "        vertical-align: top;\n",
       "    }\n",
       "\n",
       "    .dataframe thead th {\n",
       "        text-align: right;\n",
       "    }\n",
       "</style>\n",
       "<table border=\"1\" class=\"dataframe\">\n",
       "  <thead>\n",
       "    <tr style=\"text-align: right;\">\n",
       "      <th></th>\n",
       "      <th>transcript_id</th>\n",
       "      <th>transcript_position</th>\n",
       "      <th>score</th>\n",
       "    </tr>\n",
       "  </thead>\n",
       "  <tbody>\n",
       "    <tr>\n",
       "      <th>0</th>\n",
       "      <td>ENST00000000233</td>\n",
       "      <td>244</td>\n",
       "      <td>0.225600</td>\n",
       "    </tr>\n",
       "    <tr>\n",
       "      <th>1</th>\n",
       "      <td>ENST00000000233</td>\n",
       "      <td>261</td>\n",
       "      <td>0.260364</td>\n",
       "    </tr>\n",
       "    <tr>\n",
       "      <th>2</th>\n",
       "      <td>ENST00000000233</td>\n",
       "      <td>316</td>\n",
       "      <td>0.115148</td>\n",
       "    </tr>\n",
       "    <tr>\n",
       "      <th>3</th>\n",
       "      <td>ENST00000000233</td>\n",
       "      <td>332</td>\n",
       "      <td>0.311586</td>\n",
       "    </tr>\n",
       "    <tr>\n",
       "      <th>4</th>\n",
       "      <td>ENST00000000233</td>\n",
       "      <td>368</td>\n",
       "      <td>0.319416</td>\n",
       "    </tr>\n",
       "  </tbody>\n",
       "</table>\n",
       "</div>"
      ],
      "text/plain": [
       "     transcript_id  transcript_position     score\n",
       "0  ENST00000000233                  244  0.225600\n",
       "1  ENST00000000233                  261  0.260364\n",
       "2  ENST00000000233                  316  0.115148\n",
       "3  ENST00000000233                  332  0.311586\n",
       "4  ENST00000000233                  368  0.319416"
      ]
     },
     "execution_count": 68,
     "metadata": {},
     "output_type": "execute_result"
    }
   ],
   "source": [
    "data_0 = {'transcript_id': test0_transcript_ids, 'transcript_position':test0_transcript_position, 'score':y_pred_proba_0}\n",
    "df_0 = pd.DataFrame(data_0)\n",
    "\n",
    "df_0.head(5)"
   ]
  },
  {
   "cell_type": "code",
   "execution_count": 58,
   "metadata": {},
   "outputs": [
    {
     "data": {
      "text/html": [
       "<div>\n",
       "<style scoped>\n",
       "    .dataframe tbody tr th:only-of-type {\n",
       "        vertical-align: middle;\n",
       "    }\n",
       "\n",
       "    .dataframe tbody tr th {\n",
       "        vertical-align: top;\n",
       "    }\n",
       "\n",
       "    .dataframe thead th {\n",
       "        text-align: right;\n",
       "    }\n",
       "</style>\n",
       "<table border=\"1\" class=\"dataframe\">\n",
       "  <thead>\n",
       "    <tr style=\"text-align: right;\">\n",
       "      <th></th>\n",
       "      <th>transcript_id</th>\n",
       "      <th>transcript_position</th>\n",
       "      <th>score</th>\n",
       "    </tr>\n",
       "  </thead>\n",
       "  <tbody>\n",
       "    <tr>\n",
       "      <th>0</th>\n",
       "      <td>ENST00000000233</td>\n",
       "      <td>244</td>\n",
       "      <td>0.117601</td>\n",
       "    </tr>\n",
       "    <tr>\n",
       "      <th>1</th>\n",
       "      <td>ENST00000000233</td>\n",
       "      <td>261</td>\n",
       "      <td>0.189848</td>\n",
       "    </tr>\n",
       "    <tr>\n",
       "      <th>2</th>\n",
       "      <td>ENST00000000233</td>\n",
       "      <td>316</td>\n",
       "      <td>0.071894</td>\n",
       "    </tr>\n",
       "    <tr>\n",
       "      <th>3</th>\n",
       "      <td>ENST00000000233</td>\n",
       "      <td>332</td>\n",
       "      <td>0.413240</td>\n",
       "    </tr>\n",
       "    <tr>\n",
       "      <th>4</th>\n",
       "      <td>ENST00000000233</td>\n",
       "      <td>368</td>\n",
       "      <td>0.356644</td>\n",
       "    </tr>\n",
       "  </tbody>\n",
       "</table>\n",
       "</div>"
      ],
      "text/plain": [
       "     transcript_id  transcript_position     score\n",
       "0  ENST00000000233                  244  0.117601\n",
       "1  ENST00000000233                  261  0.189848\n",
       "2  ENST00000000233                  316  0.071894\n",
       "3  ENST00000000233                  332  0.413240\n",
       "4  ENST00000000233                  368  0.356644"
      ]
     },
     "execution_count": 58,
     "metadata": {},
     "output_type": "execute_result"
    }
   ],
   "source": [
    "data_1 = {'transcript_id': test1_transcript_ids, 'transcript_position':test1_transcript_position, 'score':y_pred_proba_1}\n",
    "df_1 = pd.DataFrame(data_1)\n",
    "\n",
    "df_1.head(5)"
   ]
  },
  {
   "cell_type": "code",
   "execution_count": 59,
   "metadata": {},
   "outputs": [
    {
     "data": {
      "text/html": [
       "<div>\n",
       "<style scoped>\n",
       "    .dataframe tbody tr th:only-of-type {\n",
       "        vertical-align: middle;\n",
       "    }\n",
       "\n",
       "    .dataframe tbody tr th {\n",
       "        vertical-align: top;\n",
       "    }\n",
       "\n",
       "    .dataframe thead th {\n",
       "        text-align: right;\n",
       "    }\n",
       "</style>\n",
       "<table border=\"1\" class=\"dataframe\">\n",
       "  <thead>\n",
       "    <tr style=\"text-align: right;\">\n",
       "      <th></th>\n",
       "      <th>transcript_id</th>\n",
       "      <th>transcript_position</th>\n",
       "      <th>score</th>\n",
       "    </tr>\n",
       "  </thead>\n",
       "  <tbody>\n",
       "    <tr>\n",
       "      <th>0</th>\n",
       "      <td>tx_id_0</td>\n",
       "      <td>0</td>\n",
       "      <td>0.055808</td>\n",
       "    </tr>\n",
       "    <tr>\n",
       "      <th>1</th>\n",
       "      <td>tx_id_0</td>\n",
       "      <td>10</td>\n",
       "      <td>0.984248</td>\n",
       "    </tr>\n",
       "    <tr>\n",
       "      <th>2</th>\n",
       "      <td>tx_id_0</td>\n",
       "      <td>20</td>\n",
       "      <td>0.956633</td>\n",
       "    </tr>\n",
       "    <tr>\n",
       "      <th>3</th>\n",
       "      <td>tx_id_0</td>\n",
       "      <td>30</td>\n",
       "      <td>0.983767</td>\n",
       "    </tr>\n",
       "    <tr>\n",
       "      <th>4</th>\n",
       "      <td>tx_id_0</td>\n",
       "      <td>40</td>\n",
       "      <td>0.523352</td>\n",
       "    </tr>\n",
       "  </tbody>\n",
       "</table>\n",
       "</div>"
      ],
      "text/plain": [
       "  transcript_id  transcript_position     score\n",
       "0       tx_id_0                    0  0.055808\n",
       "1       tx_id_0                   10  0.984248\n",
       "2       tx_id_0                   20  0.956633\n",
       "3       tx_id_0                   30  0.983767\n",
       "4       tx_id_0                   40  0.523352"
      ]
     },
     "execution_count": 59,
     "metadata": {},
     "output_type": "execute_result"
    }
   ],
   "source": [
    "data_2 = {'transcript_id': test2_transcript_ids, 'transcript_position':test2_transcript_position, 'score':y_pred_proba_2}\n",
    "df_2 = pd.DataFrame(data_2)\n",
    "\n",
    "df_2.head(5)"
   ]
  },
  {
   "cell_type": "code",
   "execution_count": 69,
   "metadata": {},
   "outputs": [],
   "source": [
    "FILE_PATH_0 = r'c:\\Users\\jonas\\OneDrive\\Desktop\\Work\\Coding\\Projects\\dsa4266_ribosomes\\ribosomes_dataset0_2.csv'\n",
    "FILE_PATH_1 = r'c:\\Users\\jonas\\OneDrive\\Desktop\\Work\\Coding\\Projects\\dsa4266_ribosomes\\ribosomes_dataset1_2.csv'\n",
    "FILE_PATH_2 = r'c:\\Users\\jonas\\OneDrive\\Desktop\\Work\\Coding\\Projects\\dsa4266_ribosomes\\ribosomes_dataset2_2.csv'\n",
    "\n",
    "df_0.to_csv(FILE_PATH_0, index=False)\n",
    "df_1.to_csv(FILE_PATH_1, index=False)\n",
    "df_2.to_csv(FILE_PATH_2, index=False)"
   ]
  },
  {
   "cell_type": "code",
   "execution_count": 70,
   "metadata": {},
   "outputs": [
    {
     "name": "stdout",
     "output_type": "stream",
     "text": [
      "(121838, 3)\n",
      "(90810, 3)\n",
      "(1323, 3)\n"
     ]
    }
   ],
   "source": [
    "print(df_0.shape)\n",
    "print(df_1.shape)\n",
    "print(df_2.shape)"
   ]
  }
 ],
 "metadata": {
  "kernelspec": {
   "display_name": "base",
   "language": "python",
   "name": "python3"
  },
  "language_info": {
   "codemirror_mode": {
    "name": "ipython",
    "version": 3
   },
   "file_extension": ".py",
   "mimetype": "text/x-python",
   "name": "python",
   "nbconvert_exporter": "python",
   "pygments_lexer": "ipython3",
   "version": "3.11.3"
  }
 },
 "nbformat": 4,
 "nbformat_minor": 2
}
