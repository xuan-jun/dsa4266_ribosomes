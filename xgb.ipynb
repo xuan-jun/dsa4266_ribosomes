{
 "cells": [
  {
   "cell_type": "code",
   "execution_count": 1,
   "metadata": {},
   "outputs": [],
   "source": [
    "import gzip\n",
    "import pandas as pd\n",
    "import numpy as np\n",
    "import json\n",
    "import glob\n",
    "import os\n",
    "from sklearn.model_selection import GroupShuffleSplit \n",
    "from pre_processing import pre_processing_entire_kmer, add_labels, add_features, train_test_split"
   ]
  },
  {
   "cell_type": "code",
   "execution_count": 5,
   "metadata": {},
   "outputs": [],
   "source": [
    "json_df = pre_processing_entire_kmer()"
   ]
  },
  {
   "cell_type": "code",
   "execution_count": 22,
   "metadata": {},
   "outputs": [],
   "source": [
    "labelled_df = add_labels(json_df)"
   ]
  },
  {
   "cell_type": "code",
   "execution_count": 29,
   "metadata": {},
   "outputs": [],
   "source": [
    "result_df = add_features(labelled_df)"
   ]
  },
  {
   "cell_type": "code",
   "execution_count": null,
   "metadata": {},
   "outputs": [],
   "source": [
    "result_df = pd.read_csv(\"C:/Users/wanfe/Desktop/DSA4266/Project2/labelled_w_features.csv\")"
   ]
  },
  {
   "cell_type": "code",
   "execution_count": 5,
   "metadata": {},
   "outputs": [],
   "source": [
    "train_x, train_y, test_x, test_y = train_test_split(result_df, random_state=42)"
   ]
  },
  {
   "cell_type": "code",
   "execution_count": 54,
   "metadata": {},
   "outputs": [],
   "source": [
    "#save for future use\n",
    "#result_df.to_csv('labelled_w_features.csv', index=False)\n",
    "#train_x_resampled.to_csv('C:/Users/wanfe/Desktop/DSA4266/Project2/train_x_resampled.csv', index=False)\n",
    "#train_y_resampled.to_csv('C:/Users/wanfe/Desktop/DSA4266/Project2/train_y_resampled.csv', index=False)"
   ]
  },
  {
   "cell_type": "code",
   "execution_count": 15,
   "metadata": {},
   "outputs": [],
   "source": [
    "#Oversampling numeric features\n",
    "from imblearn.over_sampling import SMOTE\n",
    "\n",
    "#initialise\n",
    "smote = SMOTE(sampling_strategy='auto')\n",
    "\n",
    "#select only numeric cols\n",
    "train_x_prep = train_x[['AA_count', 'AC_count', 'AG_count', 'AT_count', 'A_count', 'CA_count',\n",
    "       'CC_count', 'CG_count', 'CT_count', 'C_count', 'GA_count', 'GC_count',\n",
    "       'GG_count', 'GT_count', 'G_count', 'TA_count', 'TC_count', 'TG_count',\n",
    "       'TT_count', 'T_count', 'dwelling_length1', 'dwelling_length2',\n",
    "       'dwelling_length3', 'mean_signal1',\n",
    "       'mean_signal2', 'mean_signal3', 'sd_signal1', 'sd_signal2',\n",
    "       'sd_signal3']]\n",
    "\n",
    "#apply smote\n",
    "train_x_resampled, train_y_resampled = smote.fit_resample(train_x_prep, train_y)"
   ]
  },
  {
   "cell_type": "code",
   "execution_count": null,
   "metadata": {},
   "outputs": [],
   "source": [
    "#check to see if data balanced\n",
    "train_y_resampled.value_counts()"
   ]
  },
  {
   "cell_type": "code",
   "execution_count": 16,
   "metadata": {},
   "outputs": [],
   "source": [
    "#Normalise\n",
    "from sklearn.preprocessing import MinMaxScaler\n",
    "\n",
    "scaler = MinMaxScaler()\n",
    "\n",
    "#select only the signal features to normalise\n",
    "signal_features = ['dwelling_length1', 'dwelling_length2',\n",
    "       'dwelling_length3', 'mean_signal1',\n",
    "       'mean_signal2', 'mean_signal3', 'sd_signal1', 'sd_signal2',\n",
    "       'sd_signal3']\n",
    "\n",
    "#apply\n",
    "train_x_resampled[signal_features] = scaler.fit_transform(train_x_resampled[signal_features])"
   ]
  },
  {
   "cell_type": "code",
   "execution_count": 62,
   "metadata": {},
   "outputs": [
    {
     "data": {
      "text/html": [
       "<style>#sk-container-id-3 {color: black;background-color: white;}#sk-container-id-3 pre{padding: 0;}#sk-container-id-3 div.sk-toggleable {background-color: white;}#sk-container-id-3 label.sk-toggleable__label {cursor: pointer;display: block;width: 100%;margin-bottom: 0;padding: 0.3em;box-sizing: border-box;text-align: center;}#sk-container-id-3 label.sk-toggleable__label-arrow:before {content: \"▸\";float: left;margin-right: 0.25em;color: #696969;}#sk-container-id-3 label.sk-toggleable__label-arrow:hover:before {color: black;}#sk-container-id-3 div.sk-estimator:hover label.sk-toggleable__label-arrow:before {color: black;}#sk-container-id-3 div.sk-toggleable__content {max-height: 0;max-width: 0;overflow: hidden;text-align: left;background-color: #f0f8ff;}#sk-container-id-3 div.sk-toggleable__content pre {margin: 0.2em;color: black;border-radius: 0.25em;background-color: #f0f8ff;}#sk-container-id-3 input.sk-toggleable__control:checked~div.sk-toggleable__content {max-height: 200px;max-width: 100%;overflow: auto;}#sk-container-id-3 input.sk-toggleable__control:checked~label.sk-toggleable__label-arrow:before {content: \"▾\";}#sk-container-id-3 div.sk-estimator input.sk-toggleable__control:checked~label.sk-toggleable__label {background-color: #d4ebff;}#sk-container-id-3 div.sk-label input.sk-toggleable__control:checked~label.sk-toggleable__label {background-color: #d4ebff;}#sk-container-id-3 input.sk-hidden--visually {border: 0;clip: rect(1px 1px 1px 1px);clip: rect(1px, 1px, 1px, 1px);height: 1px;margin: -1px;overflow: hidden;padding: 0;position: absolute;width: 1px;}#sk-container-id-3 div.sk-estimator {font-family: monospace;background-color: #f0f8ff;border: 1px dotted black;border-radius: 0.25em;box-sizing: border-box;margin-bottom: 0.5em;}#sk-container-id-3 div.sk-estimator:hover {background-color: #d4ebff;}#sk-container-id-3 div.sk-parallel-item::after {content: \"\";width: 100%;border-bottom: 1px solid gray;flex-grow: 1;}#sk-container-id-3 div.sk-label:hover label.sk-toggleable__label {background-color: #d4ebff;}#sk-container-id-3 div.sk-serial::before {content: \"\";position: absolute;border-left: 1px solid gray;box-sizing: border-box;top: 0;bottom: 0;left: 50%;z-index: 0;}#sk-container-id-3 div.sk-serial {display: flex;flex-direction: column;align-items: center;background-color: white;padding-right: 0.2em;padding-left: 0.2em;position: relative;}#sk-container-id-3 div.sk-item {position: relative;z-index: 1;}#sk-container-id-3 div.sk-parallel {display: flex;align-items: stretch;justify-content: center;background-color: white;position: relative;}#sk-container-id-3 div.sk-item::before, #sk-container-id-3 div.sk-parallel-item::before {content: \"\";position: absolute;border-left: 1px solid gray;box-sizing: border-box;top: 0;bottom: 0;left: 50%;z-index: -1;}#sk-container-id-3 div.sk-parallel-item {display: flex;flex-direction: column;z-index: 1;position: relative;background-color: white;}#sk-container-id-3 div.sk-parallel-item:first-child::after {align-self: flex-end;width: 50%;}#sk-container-id-3 div.sk-parallel-item:last-child::after {align-self: flex-start;width: 50%;}#sk-container-id-3 div.sk-parallel-item:only-child::after {width: 0;}#sk-container-id-3 div.sk-dashed-wrapped {border: 1px dashed gray;margin: 0 0.4em 0.5em 0.4em;box-sizing: border-box;padding-bottom: 0.4em;background-color: white;}#sk-container-id-3 div.sk-label label {font-family: monospace;font-weight: bold;display: inline-block;line-height: 1.2em;}#sk-container-id-3 div.sk-label-container {text-align: center;}#sk-container-id-3 div.sk-container {/* jupyter's `normalize.less` sets `[hidden] { display: none; }` but bootstrap.min.css set `[hidden] { display: none !important; }` so we also need the `!important` here to be able to override the default hidden behavior on the sphinx rendered scikit-learn.org. See: https://github.com/scikit-learn/scikit-learn/issues/21755 */display: inline-block !important;position: relative;}#sk-container-id-3 div.sk-text-repr-fallback {display: none;}</style><div id=\"sk-container-id-3\" class=\"sk-top-container\"><div class=\"sk-text-repr-fallback\"><pre>XGBClassifier(base_score=None, booster=None, callbacks=None,\n",
       "              colsample_bylevel=None, colsample_bynode=None,\n",
       "              colsample_bytree=None, device=None, early_stopping_rounds=None,\n",
       "              enable_categorical=False, eval_metric=None, feature_types=None,\n",
       "              gamma=None, grow_policy=None, importance_type=None,\n",
       "              interaction_constraints=None, learning_rate=None, max_bin=None,\n",
       "              max_cat_threshold=None, max_cat_to_onehot=None,\n",
       "              max_delta_step=None, max_depth=None, max_leaves=None,\n",
       "              min_child_weight=None, missing=nan, monotone_constraints=None,\n",
       "              multi_strategy=None, n_estimators=None, n_jobs=None,\n",
       "              num_parallel_tree=None, random_state=None, ...)</pre><b>In a Jupyter environment, please rerun this cell to show the HTML representation or trust the notebook. <br />On GitHub, the HTML representation is unable to render, please try loading this page with nbviewer.org.</b></div><div class=\"sk-container\" hidden><div class=\"sk-item\"><div class=\"sk-estimator sk-toggleable\"><input class=\"sk-toggleable__control sk-hidden--visually\" id=\"sk-estimator-id-3\" type=\"checkbox\" checked><label for=\"sk-estimator-id-3\" class=\"sk-toggleable__label sk-toggleable__label-arrow\">XGBClassifier</label><div class=\"sk-toggleable__content\"><pre>XGBClassifier(base_score=None, booster=None, callbacks=None,\n",
       "              colsample_bylevel=None, colsample_bynode=None,\n",
       "              colsample_bytree=None, device=None, early_stopping_rounds=None,\n",
       "              enable_categorical=False, eval_metric=None, feature_types=None,\n",
       "              gamma=None, grow_policy=None, importance_type=None,\n",
       "              interaction_constraints=None, learning_rate=None, max_bin=None,\n",
       "              max_cat_threshold=None, max_cat_to_onehot=None,\n",
       "              max_delta_step=None, max_depth=None, max_leaves=None,\n",
       "              min_child_weight=None, missing=nan, monotone_constraints=None,\n",
       "              multi_strategy=None, n_estimators=None, n_jobs=None,\n",
       "              num_parallel_tree=None, random_state=None, ...)</pre></div></div></div></div></div>"
      ],
      "text/plain": [
       "XGBClassifier(base_score=None, booster=None, callbacks=None,\n",
       "              colsample_bylevel=None, colsample_bynode=None,\n",
       "              colsample_bytree=None, device=None, early_stopping_rounds=None,\n",
       "              enable_categorical=False, eval_metric=None, feature_types=None,\n",
       "              gamma=None, grow_policy=None, importance_type=None,\n",
       "              interaction_constraints=None, learning_rate=None, max_bin=None,\n",
       "              max_cat_threshold=None, max_cat_to_onehot=None,\n",
       "              max_delta_step=None, max_depth=None, max_leaves=None,\n",
       "              min_child_weight=None, missing=nan, monotone_constraints=None,\n",
       "              multi_strategy=None, n_estimators=None, n_jobs=None,\n",
       "              num_parallel_tree=None, random_state=None, ...)"
      ]
     },
     "execution_count": 62,
     "metadata": {},
     "output_type": "execute_result"
    }
   ],
   "source": [
    "#XGB Model Training\n",
    "import xgboost as xgb\n",
    "\n",
    "# Create and train the XGBoost model\n",
    "xgb_model = xgb.XGBClassifier()\n",
    "\n",
    "#selected numeric features for xgb\n",
    "selected_cols = ['AA_count', 'AC_count', 'AG_count', 'AT_count', 'A_count', 'CA_count',\n",
    "       'CC_count', 'CG_count', 'CT_count', 'C_count', 'GA_count', 'GC_count',\n",
    "       'GG_count', 'GT_count', 'G_count', 'TA_count', 'TC_count', 'TG_count',\n",
    "       'TT_count', 'T_count', 'dwelling_length1', 'dwelling_length2',\n",
    "       'dwelling_length3', 'mean_signal1',\n",
    "       'mean_signal2', 'mean_signal3', 'sd_signal1', 'sd_signal2',\n",
    "       'sd_signal3']\n",
    "\n",
    "#convert data type from object to numeric so it can feed into xgb\n",
    "train_x_resampled[selected_cols] = train_x_resampled[selected_cols].apply(pd.to_numeric, errors='coerce')\n",
    "\n",
    "#fit the model\n",
    "xgb_model.fit(train_x_resampled[selected_cols], train_y_resampled)"
   ]
  },
  {
   "cell_type": "code",
   "execution_count": 70,
   "metadata": {},
   "outputs": [
    {
     "name": "stdout",
     "output_type": "stream",
     "text": [
      "Accuracy: 0.93\n",
      "ROC AUC: 0.70\n"
     ]
    }
   ],
   "source": [
    "#XGB Model Evaluation using ROC\n",
    "from sklearn.metrics import accuracy_score, roc_auc_score\n",
    "\n",
    "#predictions using test set\n",
    "test_x[selected_cols] = test_x[selected_cols].apply(pd.to_numeric, errors='coerce')\n",
    "new_test_x = test_x[selected_cols]\n",
    "y_pred = xgb_model.predict(new_test_x)\n",
    "\n",
    "#calculate acc and roc auc\n",
    "accuracy = accuracy_score(test_y, y_pred)\n",
    "roc_auc = roc_auc_score(test_y, xgb_model.predict_proba(new_test_x)[:, 1])\n",
    "\n",
    "print(f'Accuracy: {accuracy:.2f}')\n",
    "print(f'ROC AUC: {roc_auc:.2f}')\n"
   ]
  },
  {
   "cell_type": "code",
   "execution_count": 17,
   "metadata": {},
   "outputs": [
    {
     "data": {
      "text/html": [
       "<style>#sk-container-id-1 {color: black;background-color: white;}#sk-container-id-1 pre{padding: 0;}#sk-container-id-1 div.sk-toggleable {background-color: white;}#sk-container-id-1 label.sk-toggleable__label {cursor: pointer;display: block;width: 100%;margin-bottom: 0;padding: 0.3em;box-sizing: border-box;text-align: center;}#sk-container-id-1 label.sk-toggleable__label-arrow:before {content: \"▸\";float: left;margin-right: 0.25em;color: #696969;}#sk-container-id-1 label.sk-toggleable__label-arrow:hover:before {color: black;}#sk-container-id-1 div.sk-estimator:hover label.sk-toggleable__label-arrow:before {color: black;}#sk-container-id-1 div.sk-toggleable__content {max-height: 0;max-width: 0;overflow: hidden;text-align: left;background-color: #f0f8ff;}#sk-container-id-1 div.sk-toggleable__content pre {margin: 0.2em;color: black;border-radius: 0.25em;background-color: #f0f8ff;}#sk-container-id-1 input.sk-toggleable__control:checked~div.sk-toggleable__content {max-height: 200px;max-width: 100%;overflow: auto;}#sk-container-id-1 input.sk-toggleable__control:checked~label.sk-toggleable__label-arrow:before {content: \"▾\";}#sk-container-id-1 div.sk-estimator input.sk-toggleable__control:checked~label.sk-toggleable__label {background-color: #d4ebff;}#sk-container-id-1 div.sk-label input.sk-toggleable__control:checked~label.sk-toggleable__label {background-color: #d4ebff;}#sk-container-id-1 input.sk-hidden--visually {border: 0;clip: rect(1px 1px 1px 1px);clip: rect(1px, 1px, 1px, 1px);height: 1px;margin: -1px;overflow: hidden;padding: 0;position: absolute;width: 1px;}#sk-container-id-1 div.sk-estimator {font-family: monospace;background-color: #f0f8ff;border: 1px dotted black;border-radius: 0.25em;box-sizing: border-box;margin-bottom: 0.5em;}#sk-container-id-1 div.sk-estimator:hover {background-color: #d4ebff;}#sk-container-id-1 div.sk-parallel-item::after {content: \"\";width: 100%;border-bottom: 1px solid gray;flex-grow: 1;}#sk-container-id-1 div.sk-label:hover label.sk-toggleable__label {background-color: #d4ebff;}#sk-container-id-1 div.sk-serial::before {content: \"\";position: absolute;border-left: 1px solid gray;box-sizing: border-box;top: 0;bottom: 0;left: 50%;z-index: 0;}#sk-container-id-1 div.sk-serial {display: flex;flex-direction: column;align-items: center;background-color: white;padding-right: 0.2em;padding-left: 0.2em;position: relative;}#sk-container-id-1 div.sk-item {position: relative;z-index: 1;}#sk-container-id-1 div.sk-parallel {display: flex;align-items: stretch;justify-content: center;background-color: white;position: relative;}#sk-container-id-1 div.sk-item::before, #sk-container-id-1 div.sk-parallel-item::before {content: \"\";position: absolute;border-left: 1px solid gray;box-sizing: border-box;top: 0;bottom: 0;left: 50%;z-index: -1;}#sk-container-id-1 div.sk-parallel-item {display: flex;flex-direction: column;z-index: 1;position: relative;background-color: white;}#sk-container-id-1 div.sk-parallel-item:first-child::after {align-self: flex-end;width: 50%;}#sk-container-id-1 div.sk-parallel-item:last-child::after {align-self: flex-start;width: 50%;}#sk-container-id-1 div.sk-parallel-item:only-child::after {width: 0;}#sk-container-id-1 div.sk-dashed-wrapped {border: 1px dashed gray;margin: 0 0.4em 0.5em 0.4em;box-sizing: border-box;padding-bottom: 0.4em;background-color: white;}#sk-container-id-1 div.sk-label label {font-family: monospace;font-weight: bold;display: inline-block;line-height: 1.2em;}#sk-container-id-1 div.sk-label-container {text-align: center;}#sk-container-id-1 div.sk-container {/* jupyter's `normalize.less` sets `[hidden] { display: none; }` but bootstrap.min.css set `[hidden] { display: none !important; }` so we also need the `!important` here to be able to override the default hidden behavior on the sphinx rendered scikit-learn.org. See: https://github.com/scikit-learn/scikit-learn/issues/21755 */display: inline-block !important;position: relative;}#sk-container-id-1 div.sk-text-repr-fallback {display: none;}</style><div id=\"sk-container-id-1\" class=\"sk-top-container\"><div class=\"sk-text-repr-fallback\"><pre>XGBClassifier(base_score=None, booster=None, callbacks=None,\n",
       "              colsample_bylevel=None, colsample_bynode=None,\n",
       "              colsample_bytree=None, device=None, early_stopping_rounds=None,\n",
       "              enable_categorical=False, eval_metric=None, feature_types=None,\n",
       "              gamma=None, grow_policy=None, importance_type=None,\n",
       "              interaction_constraints=None, learning_rate=None, max_bin=None,\n",
       "              max_cat_threshold=None, max_cat_to_onehot=None,\n",
       "              max_delta_step=None, max_depth=None, max_leaves=None,\n",
       "              min_child_weight=None, missing=nan, monotone_constraints=None,\n",
       "              multi_strategy=None, n_estimators=None, n_jobs=None,\n",
       "              num_parallel_tree=None, random_state=None, ...)</pre><b>In a Jupyter environment, please rerun this cell to show the HTML representation or trust the notebook. <br />On GitHub, the HTML representation is unable to render, please try loading this page with nbviewer.org.</b></div><div class=\"sk-container\" hidden><div class=\"sk-item\"><div class=\"sk-estimator sk-toggleable\"><input class=\"sk-toggleable__control sk-hidden--visually\" id=\"sk-estimator-id-1\" type=\"checkbox\" checked><label for=\"sk-estimator-id-1\" class=\"sk-toggleable__label sk-toggleable__label-arrow\">XGBClassifier</label><div class=\"sk-toggleable__content\"><pre>XGBClassifier(base_score=None, booster=None, callbacks=None,\n",
       "              colsample_bylevel=None, colsample_bynode=None,\n",
       "              colsample_bytree=None, device=None, early_stopping_rounds=None,\n",
       "              enable_categorical=False, eval_metric=None, feature_types=None,\n",
       "              gamma=None, grow_policy=None, importance_type=None,\n",
       "              interaction_constraints=None, learning_rate=None, max_bin=None,\n",
       "              max_cat_threshold=None, max_cat_to_onehot=None,\n",
       "              max_delta_step=None, max_depth=None, max_leaves=None,\n",
       "              min_child_weight=None, missing=nan, monotone_constraints=None,\n",
       "              multi_strategy=None, n_estimators=None, n_jobs=None,\n",
       "              num_parallel_tree=None, random_state=None, ...)</pre></div></div></div></div></div>"
      ],
      "text/plain": [
       "XGBClassifier(base_score=None, booster=None, callbacks=None,\n",
       "              colsample_bylevel=None, colsample_bynode=None,\n",
       "              colsample_bytree=None, device=None, early_stopping_rounds=None,\n",
       "              enable_categorical=False, eval_metric=None, feature_types=None,\n",
       "              gamma=None, grow_policy=None, importance_type=None,\n",
       "              interaction_constraints=None, learning_rate=None, max_bin=None,\n",
       "              max_cat_threshold=None, max_cat_to_onehot=None,\n",
       "              max_delta_step=None, max_depth=None, max_leaves=None,\n",
       "              min_child_weight=None, missing=nan, monotone_constraints=None,\n",
       "              multi_strategy=None, n_estimators=None, n_jobs=None,\n",
       "              num_parallel_tree=None, random_state=None, ...)"
      ]
     },
     "execution_count": 17,
     "metadata": {},
     "output_type": "execute_result"
    }
   ],
   "source": [
    "#XGB Model Training Without Necleotide and Dincleotide Counts\n",
    "import xgboost as xgb\n",
    "\n",
    "# Create and train the XGBoost model\n",
    "xgb_wo = xgb.XGBClassifier()\n",
    "\n",
    "#selected numeric features for xgb\n",
    "selected_cols = ['dwelling_length1', 'dwelling_length2',\n",
    "       'dwelling_length3', 'mean_signal1',\n",
    "       'mean_signal2', 'mean_signal3', 'sd_signal1', 'sd_signal2',\n",
    "       'sd_signal3']\n",
    "\n",
    "#convert datatype from object to numeric\n",
    "train_x_resampled[selected_cols] = train_x_resampled[selected_cols].apply(pd.to_numeric, errors='coerce')\n",
    "\n",
    "#fit\n",
    "xgb_wo.fit(train_x_resampled[selected_cols], train_y_resampled)"
   ]
  },
  {
   "cell_type": "code",
   "execution_count": 20,
   "metadata": {},
   "outputs": [
    {
     "name": "stdout",
     "output_type": "stream",
     "text": [
      "Accuracy: 0.55\n",
      "ROC AUC: 0.51\n"
     ]
    }
   ],
   "source": [
    "#XGB Model Evaluation \n",
    "from sklearn.metrics import accuracy_score, roc_auc_score\n",
    "\n",
    "#predictions using test set\n",
    "test_x[selected_cols] = test_x[selected_cols].apply(pd.to_numeric, errors='coerce')\n",
    "test_x_wo = test_x[selected_cols]\n",
    "y_pred = xgb_wo.predict(test_x_wo)\n",
    "\n",
    "#calculate acc and roc auc\n",
    "accuracy = accuracy_score(test_y, y_pred)\n",
    "roc_auc = roc_auc_score(test_y, xgb_wo.predict_proba(test_x_wo)[:, 1])\n",
    "\n",
    "print(f'Accuracy: {accuracy:.2f}')\n",
    "print(f'ROC AUC: {roc_auc:.2f}')"
   ]
  },
  {
   "cell_type": "code",
   "execution_count": 7,
   "metadata": {},
   "outputs": [],
   "source": [
    "#function to do one hot encoding\n",
    "def one_hot_encode_sequence(sequence):\n",
    "    encoding = {'A': [1, 0, 0, 0], 'C': [0, 1, 0, 0], 'G': [0, 0, 1, 0], 'T': [0, 0, 0, 1]}\n",
    "    one_hot_sequence = [encoding[n] for n in sequence]\n",
    "    return one_hot_sequence\n",
    "\n",
    "#apply one-hot encoding to the kmer_sequence column\n",
    "train_x_onehot, test_x_onehot = train_x, test_x\n",
    "train_x_onehot['kmer_sequence'] = train_x_onehot['kmer_sequence'].apply(one_hot_encode_sequence)\n",
    "test_x_onehot['kmer_sequence'] = test_x_onehot['kmer_sequence'].apply(one_hot_encode_sequence)\n",
    "\n",
    "#flattening\n",
    "train_x_onehot = pd.concat([train_x_onehot, train_x_onehot['kmer_sequence'].apply(pd.Series)], axis=1)\n",
    "test_x_onehot = pd.concat([test_x_onehot, test_x_onehot['kmer_sequence'].apply(pd.Series)], axis=1)\n"
   ]
  },
  {
   "cell_type": "code",
   "execution_count": 14,
   "metadata": {},
   "outputs": [
    {
     "data": {
      "text/plain": [
       "14986    [[0, 1, 0, 0], [0, 0, 0, 1], [0, 0, 1, 0], [1,...\n",
       "Name: kmer_sequence, dtype: object"
      ]
     },
     "execution_count": 14,
     "metadata": {},
     "output_type": "execute_result"
    }
   ],
   "source": [
    "test_x_onehot['kmer_sequence'].head(1)"
   ]
  },
  {
   "cell_type": "code",
   "execution_count": 8,
   "metadata": {},
   "outputs": [],
   "source": [
    "#Normalise\n",
    "from sklearn.preprocessing import MinMaxScaler\n",
    "\n",
    "scaler = MinMaxScaler()\n",
    "signal_features = ['dwelling_length1', 'dwelling_length2',\n",
    "       'dwelling_length3', 'mean_signal1',\n",
    "       'mean_signal2', 'mean_signal3', 'sd_signal1', 'sd_signal2',\n",
    "       'sd_signal3']\n",
    "train_x_onehot[signal_features] = scaler.fit_transform(train_x_onehot[signal_features])"
   ]
  },
  {
   "cell_type": "code",
   "execution_count": null,
   "metadata": {},
   "outputs": [],
   "source": [
    "#ONEHOT XGB Model Training\n",
    "import xgboost as xgb\n",
    "\n",
    "#Create and train the XGBoost model\n",
    "xbg_onehot_model = xgb.XGBClassifier()\n",
    "\n",
    "#selected numeric features for xgb\n",
    "selected_cols = ['AA_count', 'AC_count', 'AG_count', 'AT_count', 'A_count', 'CA_count',\n",
    "       'CC_count', 'CG_count', 'CT_count', 'C_count', 'GA_count', 'GC_count',\n",
    "       'GG_count', 'GT_count', 'G_count', 'TA_count', 'TC_count', 'TG_count',\n",
    "       'TT_count', 'T_count', 'dwelling_length1', 'dwelling_length2',\n",
    "       'dwelling_length3', 'mean_signal1',\n",
    "       'mean_signal2', 'mean_signal3', 'sd_signal1', 'sd_signal2',\n",
    "       'sd_signal3']\n",
    "\n",
    "onehot_training = train_x_onehot[['AA_count', 'AC_count', 'AG_count', 'AT_count', 'A_count', 'CA_count',\n",
    "       'CC_count', 'CG_count', 'CT_count', 'C_count', 'GA_count', 'GC_count',\n",
    "       'GG_count', 'GT_count', 'G_count', 'TA_count', 'TC_count', 'TG_count',\n",
    "       'TT_count', 'T_count', 'dwelling_length1', 'dwelling_length2',\n",
    "       'dwelling_length3', 'mean_signal1',\n",
    "       'mean_signal2', 'mean_signal3', 'sd_signal1', 'sd_signal2',\n",
    "       'sd_signal3', 'kmer_sequence']]\n",
    "onehot_training[selected_cols] = onehot_training[selected_cols].apply(pd.to_numeric, errors='coerce')\n",
    "\n",
    "#error when fitting due to invalid data types\n",
    "xbg_onehot_model.fit(train_x_onehot, train_y)"
   ]
  },
  {
   "cell_type": "code",
   "execution_count": null,
   "metadata": {},
   "outputs": [],
   "source": [
    "#embedding kmer sequence col\n",
    "import gensim\n",
    "\n",
    "#cols we want to select\n",
    "selected_columns = ['AA_count', 'AC_count', 'AG_count', 'AT_count', 'A_count', 'CA_count', 'CC_count', 'CG_count', 'CT_count', 'C_count', 'GA_count', 'GC_count', 'GG_count', 'GT_count', 'G_count', 'TA_count', 'TC_count', 'TG_count', 'TT_count', 'T_count', 'dwelling_length1', 'dwelling_length2', 'dwelling_length3', 'kmer_sequence', 'mean_signal1', 'mean_signal2', 'mean_signal3', 'sd_signal1', 'sd_signal2', 'sd_signal3']\n",
    "train_x_embedded = train_x[selected_columns]\n",
    "\n",
    "#train Word2Vec model on kmer_sequence\n",
    "word2vec_model = gensim.models.Word2Vec(sentences=train_x_embedded['kmer_sequence'], vector_size=100, window=5, min_count=1, sg=0)\n",
    "\n",
    "#function to get average word2vec\n",
    "def average_word2vec(kmer_sequence, model, size):\n",
    "    words = kmer_sequence.split()\n",
    "    vectorized = [model.wv[word] for word in words if word in model.wv]\n",
    "    if not vectorized:\n",
    "        return [0.0] * size\n",
    "    return np.mean(vectorized, axis=0)\n",
    "\n",
    "#convert kmer_sequences to word embeddings and average it\n",
    "train_x_embedded['kmer_sequence'] = train_x_embedded['kmer_sequence'].apply(lambda x: average_word2vec(x, word2vec_model, size=100))\n",
    "\n",
    "#flatten into individual numeric features\n",
    "train_x_embedded = pd.concat([train_x_embedded, train_x_embedded['kmer_sequence'].apply(pd.Series)], axis=1)\n",
    "\n",
    "# Drop the original 'kmer_sequence' column\n",
    "train_x_embedded = train_x_embedded.drop('kmer_sequence', axis=1)\n",
    "\n",
    "# Apply SMOTE to oversample\n",
    "from imblearn.over_sampling import SMOTE\n",
    "\n",
    "smote = SMOTE(sampling_strategy='auto', random_state=42)\n",
    "train_x_embedded_resampled, train_y_embedded_resampled = smote.fit_resample(train_x_embedded, train_y)\n"
   ]
  },
  {
   "cell_type": "code",
   "execution_count": 18,
   "metadata": {},
   "outputs": [],
   "source": [
    "#Normalise\n",
    "from sklearn.preprocessing import MinMaxScaler\n",
    "\n",
    "scaler = MinMaxScaler()\n",
    "signal_features = ['dwelling_length1', 'dwelling_length2',\n",
    "       'dwelling_length3', 'mean_signal1',\n",
    "       'mean_signal2', 'mean_signal3', 'sd_signal1', 'sd_signal2',\n",
    "       'sd_signal3']\n",
    "train_x_embedded_resampled[signal_features] = scaler.fit_transform(train_x_embedded_resampled[signal_features])"
   ]
  }
 ],
 "metadata": {
  "kernelspec": {
   "display_name": "Python 3",
   "language": "python",
   "name": "python3"
  },
  "language_info": {
   "codemirror_mode": {
    "name": "ipython",
    "version": 3
   },
   "file_extension": ".py",
   "mimetype": "text/x-python",
   "name": "python",
   "nbconvert_exporter": "python",
   "pygments_lexer": "ipython3",
   "version": "3.11.0"
  },
  "orig_nbformat": 4
 },
 "nbformat": 4,
 "nbformat_minor": 2
}
